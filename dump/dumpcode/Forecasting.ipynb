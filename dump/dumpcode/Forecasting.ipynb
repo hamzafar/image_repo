{
 "cells": [
  {
   "cell_type": "code",
   "execution_count": 1,
   "metadata": {
    "collapsed": true
   },
   "outputs": [],
   "source": [
    "import pandas as pd\n",
    "import numpy as np\n",
    "from statsmodels.tsa.arima_model import ARIMA"
   ]
  },
  {
   "cell_type": "code",
   "execution_count": 2,
   "metadata": {
    "collapsed": true
   },
   "outputs": [],
   "source": [
    "import matplotlib.pyplot as plt\n",
    "import matplotlib\n",
    "matplotlib.style.use('ggplot')"
   ]
  },
  {
   "cell_type": "code",
   "execution_count": 3,
   "metadata": {
    "collapsed": true
   },
   "outputs": [],
   "source": [
    "import statsmodels.api as sm"
   ]
  },
  {
   "cell_type": "markdown",
   "metadata": {},
   "source": [
    "#  MODEL with 6 dp"
   ]
  },
  {
   "cell_type": "code",
   "execution_count": 4,
   "metadata": {
    "collapsed": false
   },
   "outputs": [
    {
     "name": "stderr",
     "output_type": "stream",
     "text": [
      "D:\\DATO\\Anaconda2\\envs\\gl-env\\lib\\site-packages\\statsmodels\\tsa\\arima_model.py:1847: FutureWarning: TimeSeries is deprecated. Please use Series\n",
      "  forecast = TimeSeries(forecast, index=self.data.predict_dates)\n"
     ]
    }
   ],
   "source": [
    "dta = pd.DataFrame({\"Risk\":[float(i**2) for i in [10,20,30,40,50,60]]})\n",
    "dta.index = pd.DatetimeIndex(start='2010', end='2016', freq='A')\n",
    "res = sm.tsa.ARIMA(dta, (1, 1, 0)).fit()\n",
    "\n",
    "fig, ax = plt.subplots()\n",
    "ax = dta.ix['2010':].plot(ax=ax)\n",
    "fig = res.plot_predict('2014', '2020', dynamic=True, ax=ax,\n",
    "                        plot_insample=False)\n",
    "plt.show()\n"
   ]
  },
  {
   "cell_type": "markdown",
   "metadata": {},
   "source": [
    "# Model with more points"
   ]
  },
  {
   "cell_type": "code",
   "execution_count": 5,
   "metadata": {
    "collapsed": false
   },
   "outputs": [],
   "source": [
    "dta = pd.DataFrame({\"Risk\":[float(i**2) for i in [5,10,15,20,25,30,35,40,45,50]]})\n",
    "dta.index = pd.DatetimeIndex(start='2010', end='2020', freq='A')\n",
    "res = sm.tsa.ARIMA(dta, (1, 1, 0)).fit()\n",
    "\n",
    "\n",
    "fig, ax = plt.subplots()\n",
    "ax = dta.ix['2010':].plot(ax=ax)\n",
    "fig = res.plot_predict('2018', '2025', dynamic=True, ax=ax,\n",
    "                        plot_insample=False)\n",
    "plt.show()"
   ]
  },
  {
   "cell_type": "code",
   "execution_count": 6,
   "metadata": {
    "collapsed": false
   },
   "outputs": [],
   "source": [
    "# dta = sm.datasets.sunspots.load_pandas().data[['SUNACTIVITY']]\n",
    "# dta.index = pd.DatetimeIndex(start='1700', end='2009', freq='A')\n",
    "# res = sm.tsa.ARMA(dta, (3, 0)).fit()\n",
    "# fig, ax = plt.subplots()\n",
    "# ax = dta.ix['1950':].plot(ax=ax)\n",
    "# fig = res.plot_predict('1990', '2012', dynamic=True, ax=ax,\n",
    "#                         plot_insample=False)\n",
    "# plt.show()"
   ]
  },
  {
   "cell_type": "markdown",
   "metadata": {},
   "source": [
    "# Regression Equation"
   ]
  },
  {
   "cell_type": "markdown",
   "metadata": {},
   "source": [
    "### Convert Date into int/float"
   ]
  },
  {
   "cell_type": "code",
   "execution_count": 7,
   "metadata": {
    "collapsed": false
   },
   "outputs": [],
   "source": [
    "from datetime import datetime\n",
    "import time\n",
    "import math"
   ]
  },
  {
   "cell_type": "code",
   "execution_count": 8,
   "metadata": {
    "collapsed": true
   },
   "outputs": [],
   "source": [
    "def convert_sec(s = \"2010-12-31 0:0:0\"):\n",
    "    d = datetime.strptime(s, \"%Y-%m-%d %H:%M:%S\")\n",
    "    return(time.mktime(d.timetuple()))"
   ]
  },
  {
   "cell_type": "code",
   "execution_count": 119,
   "metadata": {
    "collapsed": false
   },
   "outputs": [
    {
     "data": {
      "text/plain": [
       "[[0.0],\n",
       " [0.05551330798479087],\n",
       " [0.1111787072243346],\n",
       " [0.16669201520912547],\n",
       " [0.22220532319391634],\n",
       " [0.2777186311787072],\n",
       " [0.33338403041825093],\n",
       " [0.3888973384030418],\n",
       " [0.4444106463878327],\n",
       " [0.49992395437262355],\n",
       " [0.5555893536121673],\n",
       " [0.6111026615969581],\n",
       " [0.6666159695817491],\n",
       " [0.7221292775665399],\n",
       " [0.7777946768060836],\n",
       " [0.8333079847908745],\n",
       " [0.8888212927756654],\n",
       " [0.9443346007604563],\n",
       " [1.0]]"
      ]
     },
     "execution_count": 119,
     "metadata": {},
     "output_type": "execute_result"
    }
   ],
   "source": [
    "lst = []\n",
    "tmp_lst =[]\n",
    "for i in pd.DatetimeIndex(start='2010', end='2029', freq='A'):\n",
    "    tmp_lst.append(convert_sec(str(i)))\n",
    "    \n",
    "min_val = min(tmp_lst)\n",
    "max_val = max(tmp_lst)\n",
    "\n",
    "for i in tmp_lst:\n",
    "    norm = (i-min_val)/(max_val-min_val)\n",
    "    lst.append([norm])\n",
    "    \n",
    "lst"
   ]
  },
  {
   "cell_type": "code",
   "execution_count": 121,
   "metadata": {
    "collapsed": false
   },
   "outputs": [],
   "source": [
    "risk = [float(i**2) for i in [5,10,15,20,25,30,35,40,45,50]]\n",
    "# risk = [float(i**2) for i in [5,10,15]]\n",
    "cur_interval = lst[0:10]\n",
    "# print cur_interval"
   ]
  },
  {
   "cell_type": "code",
   "execution_count": 122,
   "metadata": {
    "collapsed": true
   },
   "outputs": [],
   "source": [
    "from sklearn.svm import SVR"
   ]
  },
  {
   "cell_type": "code",
   "execution_count": 144,
   "metadata": {
    "collapsed": false
   },
   "outputs": [],
   "source": [
    "# X = np.sort(5 * np.random.rand(10, 1), axis=0)\n",
    "# y = np.sin(X).ravel()\n",
    "# X = np.sort([[0],[1],[2]], axis=0)\n",
    "\n",
    "X = np.sort(cur_interval, axis=0)\n",
    "\n",
    "\n",
    "# X1 = np.sort([[0],[1],[2],[3],[4],[5],\n",
    "#             [6],[7],[8],[9]], axis=0)\n",
    "\n",
    "X1 = lst[7:len(lst)]\n",
    "y= np.array(risk)\n",
    "\n",
    "# print X\n",
    "# print X1"
   ]
  },
  {
   "cell_type": "code",
   "execution_count": 145,
   "metadata": {
    "collapsed": false
   },
   "outputs": [],
   "source": [
    "# svr_rbf = SVR(kernel='rbf', C=1e3, gamma=0.2)\n",
    "# svr_lin = SVR(kernel='linear', C=1e3)\n",
    "svr_poly = SVR(kernel='poly', C=50e3, degree=2)\n",
    "# y_rbf = svr_rbf.fit(X, y).predict(X1)\n",
    "# y_lin = svr_lin.fit(X, y).predict(X1)\n",
    "y_poly = svr_poly.fit(X, y).predict(X1)"
   ]
  },
  {
   "cell_type": "code",
   "execution_count": 146,
   "metadata": {
    "collapsed": false
   },
   "outputs": [],
   "source": [
    "lw = 3\n",
    "plt.scatter(X, y, color='darkorange', label='data')\n",
    "plt.hold('on')\n",
    "# plt.plot(X1, y_rbf, color='navy', lw=lw, label='RBF model')\n",
    "# plt.plot(X1, y_lin, color='c', lw=lw, label='Linear model')\n",
    "plt.plot(X1, y_poly, color='cornflowerblue', lw=lw, label='Quadratic model')\n",
    "plt.xlabel('data')\n",
    "plt.ylabel('target')\n",
    "plt.title('Support Vector Regression')\n",
    "plt.legend()\n",
    "plt.show()"
   ]
  },
  {
   "cell_type": "markdown",
   "metadata": {},
   "source": [
    "# Extra code\n",
    "\n",
    "\n",
    "\n",
    "\n",
    "\n",
    "\n"
   ]
  },
  {
   "cell_type": "code",
   "execution_count": null,
   "metadata": {
    "collapsed": true
   },
   "outputs": [],
   "source": []
  },
  {
   "cell_type": "code",
   "execution_count": null,
   "metadata": {
    "collapsed": false
   },
   "outputs": [],
   "source": [
    "x = np.sort([float(i) for i in range(0,10)], axis=0)\n",
    "\n",
    "x = np.sort([[0],[1],[2],[3],[4],[5],\n",
    "            [6],[7],[8],[9]], axis=0)\n",
    "\n",
    "# y= np.array([float(i**2) for i in [5,10,15,20,25,30,35,40,45,50]])\n",
    "\n",
    "print X\n",
    "print x\n",
    "\n",
    "print type(X)\n",
    "print type(x)"
   ]
  },
  {
   "cell_type": "code",
   "execution_count": 12,
   "metadata": {
    "collapsed": false
   },
   "outputs": [
    {
     "data": {
      "text/plain": [
       "[[1293735600.0],\n",
       " [1325271600.0],\n",
       " [1356894000.0],\n",
       " [1388430000.0],\n",
       " [1419966000.0],\n",
       " [1451502000.0],\n",
       " [1483124400.0],\n",
       " [1514660400.0],\n",
       " [1546196400.0],\n",
       " [1577732400.0]]"
      ]
     },
     "execution_count": 12,
     "metadata": {},
     "output_type": "execute_result"
    },
    {
     "name": "stdout",
     "output_type": "stream",
     "text": [
      "\n"
     ]
    }
   ],
   "source": [
    "# print convert_sec()\n",
    "lst = []\n",
    "for i in pd.DatetimeIndex(start='2010', end='2020', freq='A'):\n",
    "#     print i\n",
    "        tmp = convert_sec(str(i))\n",
    "#         print 'sec conversion: ', tmp \n",
    "#         print 'normalized value: ', normalize(tmp)\n",
    "#         print 'sigmoid value: ', (sigmoid(tmp))\n",
    "        lst.append([convert_sec(str(i))])\n",
    "lst"
   ]
  }
 ],
 "metadata": {
  "kernelspec": {
   "display_name": "Python 2",
   "language": "python",
   "name": "python2"
  },
  "language_info": {
   "codemirror_mode": {
    "name": "ipython",
    "version": 2
   },
   "file_extension": ".py",
   "mimetype": "text/x-python",
   "name": "python",
   "nbconvert_exporter": "python",
   "pygments_lexer": "ipython2",
   "version": "2.7.11"
  }
 },
 "nbformat": 4,
 "nbformat_minor": 0
}
