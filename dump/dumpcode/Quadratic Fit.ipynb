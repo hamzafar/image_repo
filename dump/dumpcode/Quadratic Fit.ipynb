{
 "cells": [
  {
   "cell_type": "markdown",
   "metadata": {},
   "source": [
    "# Curve fitting"
   ]
  },
  {
   "cell_type": "markdown",
   "metadata": {},
   "source": [
    "\n",
    "\n",
    "<img src=future_risk.png width=\"600\" > \n",
    "\n",
    "Accroding to RBI API-581, Inspection plan is developed to determine the risk. Inspection effectiveness is introduced into the POF calculation using Bayesian Analysis, which updates the POF when additional data is gathered through inspection as shown in following equations:\n",
    "$$R(t, IE) = P(t,IE).CA$$\n",
    "$$R(t, IE) = P(t,IE).FC$$\n",
    "\n",
    "\n",
    "\n",
    "## *Proposed Solution*\n",
    "\n",
    "<img src=curve_fitting.jpg width=\"600\">\n",
    "\n"
   ]
  },
  {
   "cell_type": "markdown",
   "metadata": {},
   "source": [
    "\n",
    "\n",
    "\n",
    "\n",
    "### Import Libaraies"
   ]
  },
  {
   "cell_type": "code",
   "execution_count": 1,
   "metadata": {
    "collapsed": true
   },
   "outputs": [],
   "source": [
    "import pandas as pd\n",
    "import numpy as np\n",
    "from statsmodels.tsa.arima_model import ARIMA"
   ]
  },
  {
   "cell_type": "code",
   "execution_count": 2,
   "metadata": {
    "collapsed": true
   },
   "outputs": [],
   "source": [
    "# %matplotlib inline\n",
    "import matplotlib.pyplot as plt\n",
    "import matplotlib\n",
    "matplotlib.style.use('ggplot')"
   ]
  },
  {
   "cell_type": "code",
   "execution_count": 3,
   "metadata": {
    "collapsed": true
   },
   "outputs": [],
   "source": [
    "import statsmodels.api as sm"
   ]
  },
  {
   "cell_type": "code",
   "execution_count": 4,
   "metadata": {
    "collapsed": false
   },
   "outputs": [],
   "source": [
    "from datetime import datetime\n",
    "import time\n",
    "import math\n",
    "from time import mktime"
   ]
  },
  {
   "cell_type": "code",
   "execution_count": 5,
   "metadata": {
    "collapsed": true
   },
   "outputs": [],
   "source": [
    "from sklearn.svm import SVR"
   ]
  },
  {
   "cell_type": "markdown",
   "metadata": {},
   "source": [
    "# Regression Equation"
   ]
  },
  {
   "cell_type": "markdown",
   "metadata": {},
   "source": [
    "### *Convert Date into int/float*"
   ]
  },
  {
   "cell_type": "code",
   "execution_count": 6,
   "metadata": {
    "collapsed": true
   },
   "outputs": [],
   "source": [
    "def convert_sec(s = \"2010-12-31 0:0:0\"):\n",
    "    d = datetime.strptime(s, \"%Y-%m-%d %H:%M:%S\")\n",
    "    return(time.mktime(d.timetuple()))"
   ]
  },
  {
   "cell_type": "code",
   "execution_count": 7,
   "metadata": {
    "collapsed": false
   },
   "outputs": [],
   "source": [
    "lst = []\n",
    "tmp_lst =[]\n",
    "xint_lst=[]\n",
    "time_range=pd.DatetimeIndex(start='2010', end='2029', freq='A') \n",
    "for i in time_range:\n",
    "    tmp_lst.append(convert_sec(str(i)))\n",
    "    \n",
    "min_val = min(tmp_lst)\n",
    "max_val = max(tmp_lst)\n",
    "\n",
    "for i in tmp_lst:\n",
    "    norm = (i-min_val)/(max_val-min_val)\n",
    "    lst.append([norm])\n",
    "    xint_lst.append(norm)\n",
    "    \n",
    "# lst"
   ]
  },
  {
   "cell_type": "code",
   "execution_count": 8,
   "metadata": {
    "collapsed": false
   },
   "outputs": [],
   "source": [
    "risk = [float(i**2) for i in [5,10,15,20,25,30,35,40,45,50]]\n",
    "# risk = [float(i**2) for i in [5,10,15]]\n",
    "cur_interval = lst[0:10]\n",
    "# print cur_interval"
   ]
  },
  {
   "cell_type": "code",
   "execution_count": 9,
   "metadata": {
    "collapsed": false
   },
   "outputs": [],
   "source": [
    "X = np.sort(cur_interval, axis=0)\n",
    "X1 = lst[0:len(lst)]\n",
    "y= np.array(risk)\n"
   ]
  },
  {
   "cell_type": "code",
   "execution_count": 10,
   "metadata": {
    "collapsed": false
   },
   "outputs": [],
   "source": [
    "# svr_rbf = SVR(kernel='rbf', C=1e3, gamma=0.2)\n",
    "# svr_lin = SVR(kernel='linear', C=1e3)\n",
    "svr_poly = SVR(kernel='poly', C=50e3, degree=2)\n",
    "# y_rbf = svr_rbf.fit(X, y).predict(X1)\n",
    "# y_lin = svr_lin.fit(X, y).predict(X1)\n",
    "y_poly = svr_poly.fit(X, y).predict(X1)"
   ]
  },
  {
   "cell_type": "code",
   "execution_count": 11,
   "metadata": {
    "collapsed": false
   },
   "outputs": [],
   "source": [
    "risk_target=5000"
   ]
  },
  {
   "cell_type": "markdown",
   "metadata": {},
   "source": [
    "### *convert normailzed date to actual date*"
   ]
  },
  {
   "cell_type": "code",
   "execution_count": 12,
   "metadata": {
    "collapsed": false
   },
   "outputs": [],
   "source": [
    "def denorm(norm = 0.4):\n",
    "    denorm = norm*(max_val- min_val) + min_val\n",
    "    return denorm"
   ]
  },
  {
   "cell_type": "code",
   "execution_count": 13,
   "metadata": {
    "collapsed": false
   },
   "outputs": [],
   "source": [
    "def convert_date(timestamp = convert_sec()):\n",
    "    dt_obj = datetime.fromtimestamp(timestamp)\n",
    "    return(dt_obj)"
   ]
  },
  {
   "cell_type": "code",
   "execution_count": 14,
   "metadata": {
    "collapsed": false
   },
   "outputs": [],
   "source": [
    "targ_val = np.interp(risk_target, y_poly, np.array(xint_lst))"
   ]
  },
  {
   "cell_type": "code",
   "execution_count": 15,
   "metadata": {
    "collapsed": false
   },
   "outputs": [],
   "source": [
    "st= convert_date(denorm(targ_val))\n",
    "# print str(st)"
   ]
  },
  {
   "cell_type": "markdown",
   "metadata": {},
   "source": [
    "## Draw Chart"
   ]
  },
  {
   "cell_type": "code",
   "execution_count": 16,
   "metadata": {
    "collapsed": false
   },
   "outputs": [],
   "source": [
    "lw = 3\n",
    "plt.scatter(time_range[0:10], y, color='darkorange', label='data')\n",
    "plt.hold('on')\n",
    "\n",
    "plt.plot(time_range, y_poly, color='cornflowerblue', lw=lw, label='Quadratic model')\n",
    "\n",
    "plt.axhline(y=risk_target, color='g',ls='dashed')\n",
    "plt.axvline(x=time_range[0], color='k',ls='dashed')\n",
    "plt.axvline(x=time_range[9], color='k',ls='dashed')\n",
    "\n",
    "plt.axvline(x=convert_date(denorm(targ_val)))\n",
    "\n",
    "plt.text(x=time_range[0], y=0, s='Installation Date' )\n",
    "plt.text(x=time_range[9], y=0, s='RBI Date' )\n",
    "plt.text(x=convert_date(denorm(targ_val)), y=0, s=str(st))\n",
    "plt.text(x=time_range[0], y=risk_target, s='Target Risk' )\n",
    "\n",
    "plt.xlabel('Date')\n",
    "plt.ylabel('Risk')\n",
    "plt.title('Support Vector Regression')\n",
    "plt.legend()\n",
    "\n",
    "plt.show()\n"
   ]
  },
  {
   "cell_type": "code",
   "execution_count": null,
   "metadata": {
    "collapsed": true
   },
   "outputs": [],
   "source": []
  },
  {
   "cell_type": "code",
   "execution_count": null,
   "metadata": {
    "collapsed": true
   },
   "outputs": [],
   "source": []
  }
 ],
 "metadata": {
  "kernelspec": {
   "display_name": "Python 2",
   "language": "python",
   "name": "python2"
  },
  "language_info": {
   "codemirror_mode": {
    "name": "ipython",
    "version": 2
   },
   "file_extension": ".py",
   "mimetype": "text/x-python",
   "name": "python",
   "nbconvert_exporter": "python",
   "pygments_lexer": "ipython2",
   "version": "2.7.11"
  }
 },
 "nbformat": 4,
 "nbformat_minor": 0
}
