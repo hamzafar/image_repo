{
 "cells": [
  {
   "cell_type": "code",
   "execution_count": 1,
   "metadata": {
    "collapsed": true
   },
   "outputs": [],
   "source": [
    "import graphlab\n",
    "import numpy as np\n",
    "import pandas as ps"
   ]
  },
  {
   "cell_type": "code",
   "execution_count": 5,
   "metadata": {
    "collapsed": false
   },
   "outputs": [
    {
     "data": {
      "text/html": [
       "<pre>Finished parsing file D:\\ML\\kgl\\act_train.csv</pre>"
      ],
      "text/plain": [
       "Finished parsing file D:\\ML\\kgl\\act_train.csv"
      ]
     },
     "metadata": {},
     "output_type": "display_data"
    },
    {
     "data": {
      "text/html": [
       "<pre>Parsing completed. Parsed 100 lines in 6.23936 secs.</pre>"
      ],
      "text/plain": [
       "Parsing completed. Parsed 100 lines in 6.23936 secs."
      ]
     },
     "metadata": {},
     "output_type": "display_data"
    },
    {
     "name": "stdout",
     "output_type": "stream",
     "text": [
      "------------------------------------------------------\n",
      "Inferred types from first 100 line(s) of file as \n",
      "column_type_hints=[str,str,str,str,str,str,str,str,str,str,str,str,str,str,long]\n",
      "If parsing fails due to incorrect types, you can correct\n",
      "the inferred type list above and pass it to read_csv in\n",
      "the column_type_hints argument\n",
      "------------------------------------------------------\n"
     ]
    },
    {
     "data": {
      "text/html": [
       "<pre>Read 817116 lines. Lines per second: 57633.4</pre>"
      ],
      "text/plain": [
       "Read 817116 lines. Lines per second: 57633.4"
      ]
     },
     "metadata": {},
     "output_type": "display_data"
    },
    {
     "data": {
      "text/html": [
       "<pre>Read 1636956 lines. Lines per second: 76711.1</pre>"
      ],
      "text/plain": [
       "Read 1636956 lines. Lines per second: 76711.1"
      ]
     },
     "metadata": {},
     "output_type": "display_data"
    },
    {
     "data": {
      "text/html": [
       "<pre>Finished parsing file D:\\ML\\kgl\\act_train.csv</pre>"
      ],
      "text/plain": [
       "Finished parsing file D:\\ML\\kgl\\act_train.csv"
      ]
     },
     "metadata": {},
     "output_type": "display_data"
    },
    {
     "data": {
      "text/html": [
       "<pre>Parsing completed. Parsed 2197291 lines in 24.3014 secs.</pre>"
      ],
      "text/plain": [
       "Parsing completed. Parsed 2197291 lines in 24.3014 secs."
      ]
     },
     "metadata": {},
     "output_type": "display_data"
    }
   ],
   "source": [
    "data = graphlab.SFrame.read_csv('D:/ML/kgl/act_train.csv')\n"
   ]
  },
  {
   "cell_type": "code",
   "execution_count": 3,
   "metadata": {
    "collapsed": false
   },
   "outputs": [
    {
     "data": {
      "text/html": [
       "<pre>Finished parsing file D:\\ML\\kgl\\act_test.csv</pre>"
      ],
      "text/plain": [
       "Finished parsing file D:\\ML\\kgl\\act_test.csv"
      ]
     },
     "metadata": {},
     "output_type": "display_data"
    },
    {
     "data": {
      "text/html": [
       "<pre>Parsing completed. Parsed 100 lines in 4.10923 secs.</pre>"
      ],
      "text/plain": [
       "Parsing completed. Parsed 100 lines in 4.10923 secs."
      ]
     },
     "metadata": {},
     "output_type": "display_data"
    },
    {
     "name": "stdout",
     "output_type": "stream",
     "text": [
      "------------------------------------------------------\n",
      "Inferred types from first 100 line(s) of file as \n",
      "column_type_hints=[str,str,str,str,str,str,str,str,str,str,str,str,str,str]\n",
      "If parsing fails due to incorrect types, you can correct\n",
      "the inferred type list above and pass it to read_csv in\n",
      "the column_type_hints argument\n",
      "------------------------------------------------------\n"
     ]
    },
    {
     "data": {
      "text/html": [
       "<pre>Finished parsing file D:\\ML\\kgl\\act_test.csv</pre>"
      ],
      "text/plain": [
       "Finished parsing file D:\\ML\\kgl\\act_test.csv"
      ]
     },
     "metadata": {},
     "output_type": "display_data"
    },
    {
     "data": {
      "text/html": [
       "<pre>Parsing completed. Parsed 498687 lines in 5.48531 secs.</pre>"
      ],
      "text/plain": [
       "Parsing completed. Parsed 498687 lines in 5.48531 secs."
      ]
     },
     "metadata": {},
     "output_type": "display_data"
    }
   ],
   "source": [
    "tst_data = graphlab.SFrame.read_csv('D:/ML/kgl/act_test.csv')"
   ]
  },
  {
   "cell_type": "code",
   "execution_count": 4,
   "metadata": {
    "collapsed": false
   },
   "outputs": [
    {
     "data": {
      "text/html": [
       "<pre>Finished parsing file D:\\ML\\kgl\\people.csv</pre>"
      ],
      "text/plain": [
       "Finished parsing file D:\\ML\\kgl\\people.csv"
      ]
     },
     "metadata": {},
     "output_type": "display_data"
    },
    {
     "data": {
      "text/html": [
       "<pre>Parsing completed. Parsed 100 lines in 10.0376 secs.</pre>"
      ],
      "text/plain": [
       "Parsing completed. Parsed 100 lines in 10.0376 secs."
      ]
     },
     "metadata": {},
     "output_type": "display_data"
    },
    {
     "name": "stdout",
     "output_type": "stream",
     "text": [
      "------------------------------------------------------\n",
      "Inferred types from first 100 line(s) of file as \n",
      "column_type_hints=[str,str,str,str,str,str,str,str,str,str,str,str,str,str,str,str,str,str,str,str,str,str,str,str,str,str,str,str,str,str,str,str,str,str,str,str,str,str,str,str,long]\n",
      "If parsing fails due to incorrect types, you can correct\n",
      "the inferred type list above and pass it to read_csv in\n",
      "the column_type_hints argument\n",
      "------------------------------------------------------\n"
     ]
    },
    {
     "data": {
      "text/html": [
       "<pre>Finished parsing file D:\\ML\\kgl\\people.csv</pre>"
      ],
      "text/plain": [
       "Finished parsing file D:\\ML\\kgl\\people.csv"
      ]
     },
     "metadata": {},
     "output_type": "display_data"
    },
    {
     "data": {
      "text/html": [
       "<pre>Parsing completed. Parsed 189118 lines in 5.45331 secs.</pre>"
      ],
      "text/plain": [
       "Parsing completed. Parsed 189118 lines in 5.45331 secs."
      ]
     },
     "metadata": {},
     "output_type": "display_data"
    }
   ],
   "source": [
    "people = graphlab.SFrame.read_csv('D:/ML/kgl/people.csv')"
   ]
  },
  {
   "cell_type": "code",
   "execution_count": 5,
   "metadata": {
    "collapsed": true
   },
   "outputs": [],
   "source": [
    "def joing_frame(frame_left, frame_right):\n",
    "    return frame_left.join(frame_right, on = 'people_id', how = 'left')"
   ]
  },
  {
   "cell_type": "code",
   "execution_count": 6,
   "metadata": {
    "collapsed": true
   },
   "outputs": [],
   "source": [
    "joined_test = joing_frame(frame_left=tst_data, frame_right=people)"
   ]
  },
  {
   "cell_type": "code",
   "execution_count": 8,
   "metadata": {
    "collapsed": true
   },
   "outputs": [],
   "source": [
    "joined_data = joing_frame(frame_left= data, frame_right=people)"
   ]
  },
  {
   "cell_type": "code",
   "execution_count": 11,
   "metadata": {
    "collapsed": false
   },
   "outputs": [
    {
     "data": {
      "text/plain": [
       "dtype: int\n",
       "Rows: 2197291\n",
       "[0L, 0L, 0L, 0L, 0L, 0L, 1L, 1L, 1L, 1L, 1L, 1L, 1L, 1L, 1L, 1L, 1L, 1L, 1L, 1L, 1L, 1L, 1L, 1L, 1L, 1L, 1L, 1L, 1L, 1L, 1L, 1L, 1L, 1L, 1L, 1L, 1L, 1L, 1L, 1L, 1L, 1L, 1L, 1L, 1L, 1L, 1L, 1L, 1L, 1L, 1L, 1L, 0L, 0L, 0L, 0L, 0L, 0L, 0L, 0L, 0L, 0L, 0L, 0L, 0L, 0L, 0L, 0L, 0L, 0L, 0L, 0L, 0L, 0L, 0L, 0L, 0L, 0L, 0L, 0L, 0L, 0L, 0L, 0L, 0L, 0L, 0L, 0L, 0L, 0L, 0L, 0L, 0L, 0L, 0L, 0L, 0L, 0L, 0L, 0L, ... ]"
      ]
     },
     "execution_count": 11,
     "metadata": {},
     "output_type": "execute_result"
    }
   ],
   "source": [
    "joined_data['outcome']"
   ]
  },
  {
   "cell_type": "code",
   "execution_count": 7,
   "metadata": {
    "collapsed": false
   },
   "outputs": [],
   "source": [
    "joined_test.export_csv('D:/ML/kgl/joined_test.csv')"
   ]
  },
  {
   "cell_type": "code",
   "execution_count": 3,
   "metadata": {
    "collapsed": false
   },
   "outputs": [
    {
     "name": "stderr",
     "output_type": "stream",
     "text": [
      "[INFO] graphlab.cython.cy_server: GraphLab Create v2.1 started. Logging: C:\\Users\\user\\AppData\\Local\\Temp\\graphlab_server_1473242842.log.0\n"
     ]
    },
    {
     "name": "stdout",
     "output_type": "stream",
     "text": [
      "This non-commercial license of GraphLab Create for academic use is assigned to hamzafar_89@yahoo.com and will expire on August 11, 2017.\n"
     ]
    },
    {
     "data": {
      "text/html": [
       "<pre>Finished parsing file D:\\ML\\kgl\\joined_train.csv</pre>"
      ],
      "text/plain": [
       "Finished parsing file D:\\ML\\kgl\\joined_train.csv"
      ]
     },
     "metadata": {},
     "output_type": "display_data"
    },
    {
     "data": {
      "text/html": [
       "<pre>Parsing completed. Parsed 100 lines in 8.83051 secs.</pre>"
      ],
      "text/plain": [
       "Parsing completed. Parsed 100 lines in 8.83051 secs."
      ]
     },
     "metadata": {},
     "output_type": "display_data"
    },
    {
     "name": "stdout",
     "output_type": "stream",
     "text": [
      "------------------------------------------------------\n",
      "Inferred types from first 100 line(s) of file as \n",
      "column_type_hints=[str,str,str,str,str,str,str,str,str,str,str,str,str,str,long,str,str,str,str,str,str,str,str,str,str,str,str,str,str,str,str,str,str,str,str,str,str,str,str,str,str,str,str,str,str,str,str,str,str,str,str,str,str,str,long]\n",
      "If parsing fails due to incorrect types, you can correct\n",
      "the inferred type list above and pass it to read_csv in\n",
      "the column_type_hints argument\n",
      "------------------------------------------------------\n"
     ]
    },
    {
     "data": {
      "text/html": [
       "<pre>Read 166070 lines. Lines per second: 19456.4</pre>"
      ],
      "text/plain": [
       "Read 166070 lines. Lines per second: 19456.4"
      ]
     },
     "metadata": {},
     "output_type": "display_data"
    },
    {
     "data": {
      "text/html": [
       "<pre>Read 332535 lines. Lines per second: 15326.1</pre>"
      ],
      "text/plain": [
       "Read 332535 lines. Lines per second: 15326.1"
      ]
     },
     "metadata": {},
     "output_type": "display_data"
    },
    {
     "data": {
      "text/html": [
       "<pre>Read 498887 lines. Lines per second: 17709.5</pre>"
      ],
      "text/plain": [
       "Read 498887 lines. Lines per second: 17709.5"
      ]
     },
     "metadata": {},
     "output_type": "display_data"
    },
    {
     "data": {
      "text/html": [
       "<pre>Read 665628 lines. Lines per second: 17185.4</pre>"
      ],
      "text/plain": [
       "Read 665628 lines. Lines per second: 17185.4"
      ]
     },
     "metadata": {},
     "output_type": "display_data"
    },
    {
     "data": {
      "text/html": [
       "<pre>Read 832326 lines. Lines per second: 18852.4</pre>"
      ],
      "text/plain": [
       "Read 832326 lines. Lines per second: 18852.4"
      ]
     },
     "metadata": {},
     "output_type": "display_data"
    },
    {
     "data": {
      "text/html": [
       "<pre>Read 998654 lines. Lines per second: 17352.7</pre>"
      ],
      "text/plain": [
       "Read 998654 lines. Lines per second: 17352.7"
      ]
     },
     "metadata": {},
     "output_type": "display_data"
    },
    {
     "data": {
      "text/html": [
       "<pre>Read 1164885 lines. Lines per second: 9113.32</pre>"
      ],
      "text/plain": [
       "Read 1164885 lines. Lines per second: 9113.32"
      ]
     },
     "metadata": {},
     "output_type": "display_data"
    },
    {
     "data": {
      "text/html": [
       "<pre>Read 1330986 lines. Lines per second: 6080.74</pre>"
      ],
      "text/plain": [
       "Read 1330986 lines. Lines per second: 6080.74"
      ]
     },
     "metadata": {},
     "output_type": "display_data"
    },
    {
     "data": {
      "text/html": [
       "<pre>Read 1497479 lines. Lines per second: 6499.92</pre>"
      ],
      "text/plain": [
       "Read 1497479 lines. Lines per second: 6499.92"
      ]
     },
     "metadata": {},
     "output_type": "display_data"
    },
    {
     "data": {
      "text/html": [
       "<pre>Read 1663730 lines. Lines per second: 6878.28</pre>"
      ],
      "text/plain": [
       "Read 1663730 lines. Lines per second: 6878.28"
      ]
     },
     "metadata": {},
     "output_type": "display_data"
    },
    {
     "data": {
      "text/html": [
       "<pre>Read 1830128 lines. Lines per second: 7234.12</pre>"
      ],
      "text/plain": [
       "Read 1830128 lines. Lines per second: 7234.12"
      ]
     },
     "metadata": {},
     "output_type": "display_data"
    },
    {
     "data": {
      "text/html": [
       "<pre>Read 1998922 lines. Lines per second: 7645.29</pre>"
      ],
      "text/plain": [
       "Read 1998922 lines. Lines per second: 7645.29"
      ]
     },
     "metadata": {},
     "output_type": "display_data"
    },
    {
     "data": {
      "text/html": [
       "<pre>Finished parsing file D:\\ML\\kgl\\joined_train.csv</pre>"
      ],
      "text/plain": [
       "Finished parsing file D:\\ML\\kgl\\joined_train.csv"
      ]
     },
     "metadata": {},
     "output_type": "display_data"
    },
    {
     "data": {
      "text/html": [
       "<pre>Parsing completed. Parsed 2197291 lines in 268.254 secs.</pre>"
      ],
      "text/plain": [
       "Parsing completed. Parsed 2197291 lines in 268.254 secs."
      ]
     },
     "metadata": {},
     "output_type": "display_data"
    }
   ],
   "source": [
    "joined_train = graphlab.SFrame.read_csv('D:/ML/kgl/joined_train.csv')"
   ]
  },
  {
   "cell_type": "code",
   "execution_count": 4,
   "metadata": {
    "collapsed": true
   },
   "outputs": [],
   "source": [
    "missing_col = ['char_1', 'char_2', 'char_3', 'char_4', 'char_5', \n",
    "               'char_6', 'char_7', 'char_8', 'char_9']"
   ]
  },
  {
   "cell_type": "code",
   "execution_count": 8,
   "metadata": {
    "collapsed": false
   },
   "outputs": [
    {
     "data": {
      "text/plain": [
       "2039676"
      ]
     },
     "execution_count": 8,
     "metadata": {},
     "output_type": "execute_result"
    }
   ],
   "source": [
    "len(joined_train[joined_train['char_1']== ''])"
   ]
  },
  {
   "cell_type": "code",
   "execution_count": 15,
   "metadata": {
    "collapsed": true
   },
   "outputs": [],
   "source": [
    "from scipy.stats import mode\n"
   ]
  },
  {
   "cell_type": "code",
   "execution_count": 79,
   "metadata": {
    "collapsed": false
   },
   "outputs": [
    {
     "name": "stdout",
     "output_type": "stream",
     "text": [
      "type 2\n"
     ]
    }
   ],
   "source": [
    "idx_nn = joined_train['char_1'] != ''\n",
    "idx_null = joined_train['char_1'] == ''\n",
    "mod = mode(joined_train['char_1'][idx_nn]).mode[0]\n",
    "print mod"
   ]
  },
  {
   "cell_type": "code",
   "execution_count": 81,
   "metadata": {
    "collapsed": false
   },
   "outputs": [
    {
     "data": {
      "text/plain": [
       "'type 2'"
      ]
     },
     "execution_count": 81,
     "metadata": {},
     "output_type": "execute_result"
    }
   ],
   "source": [
    "mode(joined_train['char_1'][joined_train['char_1'] != '']).mode[0]"
   ]
  },
  {
   "cell_type": "code",
   "execution_count": 92,
   "metadata": {
    "collapsed": false
   },
   "outputs": [
    {
     "ename": "TypeError",
     "evalue": "Cannot set column with key type <class 'graphlab.data_structures.sarray.SArray'>",
     "output_type": "error",
     "traceback": [
      "\u001b[1;31m---------------------------------------------------------------------------\u001b[0m",
      "\u001b[1;31mTypeError\u001b[0m                                 Traceback (most recent call last)",
      "\u001b[1;32m<ipython-input-92-a853d1d8c40c>\u001b[0m in \u001b[0;36m<module>\u001b[1;34m()\u001b[0m\n\u001b[1;32m----> 1\u001b[1;33m \u001b[0mjoined_train\u001b[0m\u001b[1;33m[\u001b[0m\u001b[0mjoined_train\u001b[0m\u001b[1;33m[\u001b[0m\u001b[1;34m'char_1'\u001b[0m\u001b[1;33m]\u001b[0m \u001b[1;33m==\u001b[0m \u001b[1;34m''\u001b[0m\u001b[1;33m]\u001b[0m \u001b[1;33m=\u001b[0m \u001b[1;36m0\u001b[0m\u001b[1;33m\u001b[0m\u001b[0m\n\u001b[0m\u001b[0;32m      2\u001b[0m \u001b[1;33m\u001b[0m\u001b[0m\n",
      "\u001b[1;32mD:\\DATO\\Anaconda2\\envs\\gl-env\\lib\\site-packages\\graphlab\\data_structures\\sframe.pyc\u001b[0m in \u001b[0;36m__setitem__\u001b[1;34m(self, key, value)\u001b[0m\n\u001b[0;32m   4111\u001b[0m \u001b[1;33m\u001b[0m\u001b[0m\n\u001b[0;32m   4112\u001b[0m         \u001b[1;32melse\u001b[0m\u001b[1;33m:\u001b[0m\u001b[1;33m\u001b[0m\u001b[0m\n\u001b[1;32m-> 4113\u001b[1;33m             \u001b[1;32mraise\u001b[0m \u001b[0mTypeError\u001b[0m\u001b[1;33m(\u001b[0m\u001b[1;34m'Cannot set column with key type '\u001b[0m \u001b[1;33m+\u001b[0m \u001b[0mstr\u001b[0m\u001b[1;33m(\u001b[0m\u001b[0mtype\u001b[0m\u001b[1;33m(\u001b[0m\u001b[0mkey\u001b[0m\u001b[1;33m)\u001b[0m\u001b[1;33m)\u001b[0m\u001b[1;33m)\u001b[0m\u001b[1;33m\u001b[0m\u001b[0m\n\u001b[0m\u001b[0;32m   4114\u001b[0m \u001b[1;33m\u001b[0m\u001b[0m\n\u001b[0;32m   4115\u001b[0m     \u001b[1;32mdef\u001b[0m \u001b[0m__delitem__\u001b[0m\u001b[1;33m(\u001b[0m\u001b[0mself\u001b[0m\u001b[1;33m,\u001b[0m \u001b[0mkey\u001b[0m\u001b[1;33m)\u001b[0m\u001b[1;33m:\u001b[0m\u001b[1;33m\u001b[0m\u001b[0m\n",
      "\u001b[1;31mTypeError\u001b[0m: Cannot set column with key type <class 'graphlab.data_structures.sarray.SArray'>"
     ]
    }
   ],
   "source": [
    "joined_train['char_1']\n",
    "\n",
    "df['BrandName'].replace(['ABC', 'AB'], 'A')\n"
   ]
  },
  {
   "cell_type": "code",
   "execution_count": 40,
   "metadata": {
    "collapsed": false
   },
   "outputs": [],
   "source": [
    "a = joined_train['char_1']"
   ]
  },
  {
   "cell_type": "code",
   "execution_count": 35,
   "metadata": {
    "collapsed": false
   },
   "outputs": [],
   "source": [
    "b = mode(a)"
   ]
  },
  {
   "cell_type": "code",
   "execution_count": 36,
   "metadata": {
    "collapsed": false
   },
   "outputs": [
    {
     "data": {
      "text/plain": [
       "ModeResult(mode=array([ {'char_30': 'True', 'char_2.1': 'type 2', 'group_1': 'group 17304', 'date': '2022-09-27', 'char_4.1': 'type 5', 'char_5.1': 'type 5', 'date.1': '2021-06-29', 'people_id': 'ppl_100', 'char_33': 'False', 'char_6.1': 'type 3', 'char_9.1': 'type 2', 'char_7.1': 'type 11', 'char_10.1': 'True', 'char_8.1': 'type 2', 'char_38': 36L, 'char_36': 'True', 'char_19': 'False', 'char_18': 'False', 'char_17': 'False', 'char_16': 'True', 'char_15': 'False', 'char_14': 'True', 'char_13': 'True', 'char_12': 'False', 'char_11': 'False', 'char_10': 'type 1', 'char_32': 'False', 'activity_id': 'act2_2434093', 'char_6': '', 'char_1.1': 'type 2', 'char_31': 'True', 'char_25': 'False', 'char_9': '', 'char_8': '', 'char_7': '', 'char_3.1': 'type 5', 'char_5': '', 'char_4': '', 'char_3': '', 'char_2': '', 'char_1': '', 'char_26': 'False', 'char_27': 'True', 'char_24': 'False', 'activity_category': 'type 2', 'char_22': 'False', 'char_23': 'False', 'char_20': 'False', 'char_21': 'True', 'char_35': 'True', 'char_28': 'True', 'char_29': 'False', 'char_37': 'False', 'char_34': 'True', 'outcome': 0L}], dtype=object), count=array([1]))"
      ]
     },
     "execution_count": 36,
     "metadata": {},
     "output_type": "execute_result"
    }
   ],
   "source": [
    "b"
   ]
  },
  {
   "cell_type": "code",
   "execution_count": 54,
   "metadata": {
    "collapsed": false
   },
   "outputs": [
    {
     "data": {
      "text/plain": [
       "ModeResult(mode=array(['type 2'], \n",
       "      dtype='|S7'), count=array([38030]))"
      ]
     },
     "execution_count": 54,
     "metadata": {},
     "output_type": "execute_result"
    }
   ],
   "source": [
    "idx = joined_train['char_1'] != ''\n",
    "mode(a[idx]).mode[0]"
   ]
  },
  {
   "cell_type": "code",
   "execution_count": 72,
   "metadata": {
    "collapsed": false
   },
   "outputs": [
    {
     "data": {
      "text/plain": [
       "'type 2'"
      ]
     },
     "execution_count": 72,
     "metadata": {},
     "output_type": "execute_result"
    }
   ],
   "source": [
    "mode(a[idx]).mode[0]\n",
    "\n"
   ]
  },
  {
   "cell_type": "code",
   "execution_count": 73,
   "metadata": {
    "collapsed": false
   },
   "outputs": [
    {
     "data": {
      "text/plain": [
       "'type 2'"
      ]
     },
     "execution_count": 73,
     "metadata": {},
     "output_type": "execute_result"
    }
   ],
   "source": [
    "idx = joined_train['char_1'] != ''\n",
    "mode(joined_train['char_1'][idx]).mode[0]"
   ]
  },
  {
   "cell_type": "code",
   "execution_count": null,
   "metadata": {
    "collapsed": true
   },
   "outputs": [],
   "source": [
    "df_data = ps.DataFrame(joined_train)"
   ]
  }
 ],
 "metadata": {
  "kernelspec": {
   "display_name": "Python 2",
   "language": "python",
   "name": "python2"
  },
  "language_info": {
   "codemirror_mode": {
    "name": "ipython",
    "version": 2
   },
   "file_extension": ".py",
   "mimetype": "text/x-python",
   "name": "python",
   "nbconvert_exporter": "python",
   "pygments_lexer": "ipython2",
   "version": "2.7.11"
  }
 },
 "nbformat": 4,
 "nbformat_minor": 0
}
