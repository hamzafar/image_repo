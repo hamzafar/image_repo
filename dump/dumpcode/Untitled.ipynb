{
 "cells": [
  {
   "cell_type": "code",
   "execution_count": 5,
   "metadata": {
    "collapsed": false
   },
   "outputs": [
    {
     "name": "stdout",
     "output_type": "stream",
     "text": [
      "hamza\n"
     ]
    },
    {
     "data": {
      "text/html": [
       "<div>\n",
       "<table border=\"1\" class=\"dataframe\">\n",
       "  <thead>\n",
       "    <tr style=\"text-align: right;\">\n",
       "      <th></th>\n",
       "      <th>rank</th>\n",
       "      <th>sandwich</th>\n",
       "      <th>restaurant</th>\n",
       "      <th>description</th>\n",
       "      <th>price</th>\n",
       "      <th>address</th>\n",
       "      <th>city</th>\n",
       "      <th>phone</th>\n",
       "      <th>website</th>\n",
       "      <th>full_address</th>\n",
       "      <th>formatted_address</th>\n",
       "      <th>lat</th>\n",
       "      <th>lng</th>\n",
       "    </tr>\n",
       "  </thead>\n",
       "  <tbody>\n",
       "    <tr>\n",
       "      <th>0</th>\n",
       "      <td>1</td>\n",
       "      <td>BLT</td>\n",
       "      <td>Old Oak Tap</td>\n",
       "      <td>The B is applewood smoked&amp;mdash;nice and snapp...</td>\n",
       "      <td>$10</td>\n",
       "      <td>2109 W. Chicago Ave.</td>\n",
       "      <td>Chicago</td>\n",
       "      <td>773-772-0406</td>\n",
       "      <td>theoldoaktap.com</td>\n",
       "      <td>2109 W. Chicago Ave., Chicago</td>\n",
       "      <td>2109 West Chicago Avenue, Chicago, IL 60622, USA</td>\n",
       "      <td>41.895734</td>\n",
       "      <td>-87.679960</td>\n",
       "    </tr>\n",
       "    <tr>\n",
       "      <th>1</th>\n",
       "      <td>2</td>\n",
       "      <td>Fried Bologna</td>\n",
       "      <td>Au Cheval</td>\n",
       "      <td>Thought your bologna-eating days had retired w...</td>\n",
       "      <td>$9</td>\n",
       "      <td>800 W. Randolph St.</td>\n",
       "      <td>Chicago</td>\n",
       "      <td>312-929-4580</td>\n",
       "      <td>aucheval.tumblr.com</td>\n",
       "      <td>800 W. Randolph St., Chicago</td>\n",
       "      <td>800 West Randolph Street, Chicago, IL 60607, USA</td>\n",
       "      <td>41.884672</td>\n",
       "      <td>-87.647754</td>\n",
       "    </tr>\n",
       "    <tr>\n",
       "      <th>2</th>\n",
       "      <td>3</td>\n",
       "      <td>Woodland Mushroom</td>\n",
       "      <td>Xoco</td>\n",
       "      <td>Leave it to Rick Bayless and crew to come up w...</td>\n",
       "      <td>$9.50.</td>\n",
       "      <td>445 N. Clark St.</td>\n",
       "      <td>Chicago</td>\n",
       "      <td>312-334-3688</td>\n",
       "      <td>rickbayless.com</td>\n",
       "      <td>445 N. Clark St., Chicago</td>\n",
       "      <td>445 North Clark Street, Chicago, IL 60654, USA</td>\n",
       "      <td>41.890602</td>\n",
       "      <td>-87.630925</td>\n",
       "    </tr>\n",
       "  </tbody>\n",
       "</table>\n",
       "</div>"
      ],
      "text/plain": [
       "   rank           sandwich   restaurant  \\\n",
       "0     1                BLT  Old Oak Tap   \n",
       "1     2      Fried Bologna    Au Cheval   \n",
       "2     3  Woodland Mushroom         Xoco   \n",
       "\n",
       "                                         description   price  \\\n",
       "0  The B is applewood smoked&mdash;nice and snapp...     $10   \n",
       "1  Thought your bologna-eating days had retired w...      $9   \n",
       "2  Leave it to Rick Bayless and crew to come up w...  $9.50.   \n",
       "\n",
       "                address     city         phone              website  \\\n",
       "0  2109 W. Chicago Ave.  Chicago  773-772-0406     theoldoaktap.com   \n",
       "1   800 W. Randolph St.  Chicago  312-929-4580  aucheval.tumblr.com   \n",
       "2      445 N. Clark St.  Chicago  312-334-3688      rickbayless.com   \n",
       "\n",
       "                    full_address  \\\n",
       "0  2109 W. Chicago Ave., Chicago   \n",
       "1   800 W. Randolph St., Chicago   \n",
       "2      445 N. Clark St., Chicago   \n",
       "\n",
       "                                  formatted_address        lat        lng  \n",
       "0  2109 West Chicago Avenue, Chicago, IL 60622, USA  41.895734 -87.679960  \n",
       "1  800 West Randolph Street, Chicago, IL 60607, USA  41.884672 -87.647754  \n",
       "2    445 North Clark Street, Chicago, IL 60654, USA  41.890602 -87.630925  "
      ]
     },
     "execution_count": 5,
     "metadata": {},
     "output_type": "execute_result"
    }
   ],
   "source": [
    "print('hamza')\n",
    "import pandas as pd\n",
    "url = 'https://raw.github.com/gjreda/best-sandwiches/master/data/best-sandwiches-geocode.tsv'\n",
    "\n",
    "from_url = pd.read_table(url, sep='\\t')\n",
    "from_url.head(3)"
   ]
  }
 ],
 "metadata": {
  "kernelspec": {
   "display_name": "Python 3",
   "language": "python",
   "name": "python3"
  },
  "language_info": {
   "codemirror_mode": {
    "name": "ipython",
    "version": 3
   },
   "file_extension": ".py",
   "mimetype": "text/x-python",
   "name": "python",
   "nbconvert_exporter": "python",
   "pygments_lexer": "ipython3",
   "version": "3.5.1"
  }
 },
 "nbformat": 4,
 "nbformat_minor": 0
}
