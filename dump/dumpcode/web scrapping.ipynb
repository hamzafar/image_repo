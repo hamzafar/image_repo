{
 "cells": [
  {
   "cell_type": "code",
   "execution_count": 4,
   "metadata": {
    "collapsed": true
   },
   "outputs": [],
   "source": [
    "from bs4 import BeautifulSoup\n",
    "import urllib"
   ]
  },
  {
   "cell_type": "code",
   "execution_count": 52,
   "metadata": {
    "collapsed": false
   },
   "outputs": [
    {
     "name": "stdout",
     "output_type": "stream",
     "text": [
      "<class 'bs4.BeautifulSoup'>\n"
     ]
    }
   ],
   "source": [
    "r = urllib.urlopen('http://www.riskplant.net/details/11/T2lsIFByb2R1Y3Rpb24gVW5pdA==/corrosion_circuit/T2lsIEFuZCBHYXMgRmFjaWxpdHkgfE9pbCBQcm9kdWN0aW9uIFVuaXR8Q29ycm9zaW9uIENpcmN1aXRzfDI3IC0gTUNQLUNMMjAwNg==/MT-H-1350/0').read()\n",
    "soup = BeautifulSoup(r)\n",
    "print type(soup)"
   ]
  },
  {
   "cell_type": "code",
   "execution_count": 53,
   "metadata": {
    "collapsed": false
   },
   "outputs": [
    {
     "name": "stdout",
     "output_type": "stream",
     "text": [
      "<!DOCTYPE html>\n",
      "<html class=\"no-js css-menubar\" lang=\"en\">\n",
      " <head>\n",
      "  <meta charset=\"utf-8\"/>\n",
      "  <meta content=\"IE=edge\" http-equiv=\"X-UA-Compatible\"/>\n",
      "  <meta content=\"width=device-width, initial-scale=1.0, user-scalable=0, minimal-ui\" name=\"viewport\"/>\n",
      "  <title>\n",
      "   RiskPLANT ™\n",
      "  </title>\n",
      "  <link href=\"frontend/base/assets/images/apple-touch-icon.png\" rel=\"apple-touch-icon\"/>\n",
      "  <link href=\"frontend/base/assets/images/favicon.ico\" rel=\"shortcut icon\"/>\n",
      "  <!-- Stylesheets -->\n",
      "  <link href=\"frontend/global/css/bootstrap.min.css\" rel=\"stylesheet\"/>\n",
      "  <link href=\"frontend/global/css/bootstrap-extend.min.css\" rel=\"stylesheet\"/>\n",
      "  <link href=\"frontend/base/assets/css/site.min.css\" rel=\"stylesheet\"/>\n",
      "  <!-- Plugins -->\n",
      "  <link href=\"frontend/base/assets/examples/css/pages/login-v2.css\" rel=\"stylesheet\"/>\n",
      "  <!--[if lt IE 9]>\n",
      "    <script src=\"frontend/global/vendor/html5shiv/html5shiv.min.js\"></script>\n",
      "    <![endif]-->\n",
      "  <!--[if lt IE 10]>\n",
      "    <script src=\"frontend/global/vendor/media-match/media.match.min.js\"></script>\n",
      "    <script src=\"frontend/global/vendor/respond/respond.min.js\"></script>\n",
      "    <![endif]-->\n",
      "  <!-- Scripts -->\n",
      " </head>\n",
      " <body class=\"page-login-v2 layout-full page-dark\">\n",
      "  <!--[if lt IE 8]>\n",
      "        <p class=\"browserupgrade\">You are using an <strong>outdated</strong> browser. Please <a href=\"http://browsehappy.com/\">upgrade your browser</a> to improve your experience.</p>\n",
      "    <![endif]-->\n",
      "  <!-- Page -->\n",
      "  <div class=\"page animsition\" data-animsition-in=\"fade-in\" data-animsition-out=\"fade-out\">\n",
      "   <div class=\"page-content\">\n",
      "    <div class=\"page-brand-info\">\n",
      "     <div class=\"brand\">\n",
      "      <img alt=\"...\" class=\"brand-img\" height=\"50\" src=\"frontend/base/assets/images/logo@2x.png\"/>\n",
      "      <h2 class=\"brand-text font-size-40\">\n",
      "       RiskPLANT ™\n",
      "      </h2>\n",
      "     </div>\n",
      "     <p class=\"font-size-20\">\n",
      "      To provide service to our clients in most economical and safe manner, reducing their cost impact on asset and environment, same time increasing profit for our shareholders.\n",
      "     </p>\n",
      "    </div>\n",
      "    <div class=\"page-login-main\">\n",
      "     <div class=\"brand visible-xs\" style=\"text-align:center;\">\n",
      "      <img alt=\"RiskPLANT\" class=\"brand-img\" src=\"../../frontend/base/assets/images/logo@2x.png\"/>\n",
      "      <h3 class=\"brand-text font-size-40\">\n",
      "       RiskPLANT\n",
      "      </h3>\n",
      "     </div>\n",
      "     <p>\n",
      "      <img class=\"margin-bottom-5 img-responsive\" src=\"frontend/base/assets/images/CME-logo.png\" width=\"300\"/>\n",
      "     </p>\n",
      "     <!--<p align=\"center\"><img src=\"frontend/base/assets/images/logo2.png\" /></p>-->\n",
      "     <h3 class=\"font-size-24\">\n",
      "      Sign In\n",
      "     </h3>\n",
      "     <p>\n",
      "      Already have an account? Login here.\n",
      "     </p>\n",
      "     <form action=\"http://www.riskplant.net/login\" class=\"form-horizontal\" method=\"POST\" role=\"form\">\n",
      "      <input name=\"_token\" type=\"hidden\" value=\"EszdMJQ6KB6Us37DifboZMVyOnEkVAultYA5nWVj\"/>\n",
      "      <div class=\"form-group form-material floating\">\n",
      "       <input class=\"form-control\" id=\"username\" name=\"username\" placeholder=\"username\" type=\"text\" value=\"\"/>\n",
      "       <label class=\"floating-label\" for=\"username\">\n",
      "        User ID\n",
      "       </label>\n",
      "      </div>\n",
      "      <div class=\"form-group form-material floating\">\n",
      "       <input class=\"form-control\" id=\"password\" name=\"password\" placeholder=\"password\" type=\"password\"/>\n",
      "       <label class=\"floating-label\" for=\"password\">\n",
      "        Password\n",
      "       </label>\n",
      "      </div>\n",
      "      <div class=\"form-group clearfix\">\n",
      "       <div class=\"checkbox-custom checkbox-inline checkbox-primary pull-left\">\n",
      "        <input id=\"remember\" name=\"remember\" type=\"checkbox\"/>\n",
      "        <!--<label for=\"inputCheckbox\">Remember me</label>-->\n",
      "       </div>\n",
      "       <a class=\"pull-right\" href=\"http://www.riskplant.net/password/reset\">\n",
      "        Forgot Your Password?\n",
      "       </a>\n",
      "      </div>\n",
      "      <button class=\"btn btn-primary btn-block btn-lg\" onclick=\"check(this.form)\" type=\"submit\">\n",
      "       Sign in\n",
      "      </button>\n",
      "     </form>\n",
      "     <!--<p>No account? <a href=\"register-v2<input required\">Sign Up</a></p>-->\n",
      "     <footer class=\"page-copyright\">\n",
      "      <p>\n",
      "       © 2016, RiskPLANT ™.\n",
      "       <br/>\n",
      "       <a href=\"#\">\n",
      "        Privacy Policy\n",
      "       </a>\n",
      "       |\n",
      "       <a href=\"#\">\n",
      "        Support\n",
      "       </a>\n",
      "      </p>\n",
      "      <!--<div class=\"social\">\n",
      "            <a class=\"btn btn-icon btn-round social-twitter\" href=\"javascript:void(0)\">\n",
      "              <i class=\"icon bd-twitter\" aria-hidden=\"true\"></i>\n",
      "            </a>\n",
      "            <a class=\"btn btn-icon btn-round social-facebook\" href=\"javascript:void(0)\">\n",
      "              <i class=\"icon bd-facebook\" aria-hidden=\"true\"></i>\n",
      "            </a>\n",
      "            <a class=\"btn btn-icon btn-round social-google-plus\" href=\"javascript:void(0)\">\n",
      "              <i class=\"icon bd-google-plus\" aria-hidden=\"true\"></i>\n",
      "            </a>\n",
      "          </div>-->\n",
      "     </footer>\n",
      "    </div>\n",
      "   </div>\n",
      "  </div>\n",
      "  <!-- End Page -->\n",
      "  <style>\n",
      "   input[type='text'], input[type='email'], input[type='password'] { padding-left:10px !important; padding-right:10px !important;  }\n",
      "\n",
      ".form-material .form-control.focus ~ .floating-label, .form-material .form-control:focus ~ .floating-label, .form-material .form-control:not(.empty) ~ .floating-label { display:none; }\n",
      "\n",
      "@media  handheld, only screen and (max-width: 800px) {\n",
      ".page-brand-info { display:none; }\n",
      "\n",
      "\n",
      "}\n",
      "\n",
      "@media  handheld, only screen and (max-width: 768px) {\n",
      "\n",
      "}\n",
      "\n",
      "@media  handheld, only screen and (max-width: 640px) {\n",
      "\n",
      "}\n",
      "\n",
      "@media  handheld, only screen and (max-width: 480px) {\n",
      "\n",
      "}\n",
      "\n",
      "@media  handheld, only screen and (max-width: 360px) {\n",
      "\n",
      "}\n",
      "\n",
      "@media  handheld, only screen and (max-width: 320px) {\n",
      "\n",
      "}\n",
      "  </style>\n",
      " </body>\n",
      "</html>\n"
     ]
    }
   ],
   "source": [
    "print (soup.prettify())"
   ]
  },
  {
   "cell_type": "code",
   "execution_count": 54,
   "metadata": {
    "collapsed": false
   },
   "outputs": [
    {
     "data": {
      "text/plain": [
       "<title>RiskPLANT \\u2122</title>"
      ]
     },
     "execution_count": 54,
     "metadata": {},
     "output_type": "execute_result"
    }
   ],
   "source": [
    "soup.title"
   ]
  },
  {
   "cell_type": "code",
   "execution_count": 56,
   "metadata": {
    "collapsed": false
   },
   "outputs": [
    {
     "data": {
      "text/plain": [
       "[<div class=\"page-content\">\\n<div class=\"page-brand-info\">\\n<div class=\"brand\">\\n<img alt=\"...\" class=\"brand-img\" height=\"50\" src=\"frontend/base/assets/images/logo@2x.png\"/>\\n<h2 class=\"brand-text font-size-40\">RiskPLANT \\u2122</h2>\\n</div>\\n<p class=\"font-size-20\">To provide service to our clients in most economical and safe manner, reducing their cost impact on asset and environment, same time increasing profit for our shareholders. </p>\\n</div>\\n<div class=\"page-login-main\">\\n<div class=\"brand visible-xs\" style=\"text-align:center;\">\\n<img alt=\"RiskPLANT\" class=\"brand-img\" src=\"../../frontend/base/assets/images/logo@2x.png\"/>\\n<h3 class=\"brand-text font-size-40\">RiskPLANT</h3>\\n</div>\\n<p><img class=\"margin-bottom-5 img-responsive\" src=\"frontend/base/assets/images/CME-logo.png\" width=\"300\"/></p>\\n<!--<p align=\"center\"><img src=\"frontend/base/assets/images/logo2.png\" /></p>-->\\n<h3 class=\"font-size-24\">Sign In</h3>\\n<p>Already have an account? Login here. </p>\\n<form action=\"http://www.riskplant.net/login\" class=\"form-horizontal\" method=\"POST\" role=\"form\">\\n<input name=\"_token\" type=\"hidden\" value=\"EszdMJQ6KB6Us37DifboZMVyOnEkVAultYA5nWVj\"/>\\n<div class=\"form-group form-material floating\">\\n<input class=\"form-control\" id=\"username\" name=\"username\" placeholder=\"username\" type=\"text\" value=\"\"/>\\n<label class=\"floating-label\" for=\"username\">User ID</label>\\n</div>\\n<div class=\"form-group form-material floating\">\\n<input class=\"form-control\" id=\"password\" name=\"password\" placeholder=\"password\" type=\"password\"/>\\n<label class=\"floating-label\" for=\"password\">Password</label>\\n</div>\\n<div class=\"form-group clearfix\">\\n<div class=\"checkbox-custom checkbox-inline checkbox-primary pull-left\">\\n<input id=\"remember\" name=\"remember\" type=\"checkbox\"/>\\n<!--<label for=\"inputCheckbox\">Remember me</label>-->\\n</div>\\n<a class=\"pull-right\" href=\"http://www.riskplant.net/password/reset\">Forgot Your Password?</a>\\n</div>\\n<button class=\"btn btn-primary btn-block btn-lg\" onclick=\"check(this.form)\" type=\"submit\">Sign in</button>\\n</form>\\n<!--<p>No account? <a href=\"register-v2<input required\">Sign Up</a></p>-->\\n<footer class=\"page-copyright\">\\n<p>\\xa9 2016, RiskPLANT \\u2122. <br/><a href=\"#\">Privacy Policy</a>\\xa0\\xa0|\\xa0\\xa0<a href=\"#\">Support</a></p>\\n<!--<div class=\"social\">\\n            <a class=\"btn btn-icon btn-round social-twitter\" href=\"javascript:void(0)\">\\n              <i class=\"icon bd-twitter\" aria-hidden=\"true\"></i>\\n            </a>\\n            <a class=\"btn btn-icon btn-round social-facebook\" href=\"javascript:void(0)\">\\n              <i class=\"icon bd-facebook\" aria-hidden=\"true\"></i>\\n            </a>\\n            <a class=\"btn btn-icon btn-round social-google-plus\" href=\"javascript:void(0)\">\\n              <i class=\"icon bd-google-plus\" aria-hidden=\"true\"></i>\\n            </a>\\n          </div>-->\\n</footer>\\n</div>\\n</div>]"
      ]
     },
     "execution_count": 56,
     "metadata": {},
     "output_type": "execute_result"
    }
   ],
   "source": [
    "tmp = soup.find_all(\"div\", class_=\"page-content\")\n",
    "tmp"
   ]
  },
  {
   "cell_type": "code",
   "execution_count": 59,
   "metadata": {
    "collapsed": false
   },
   "outputs": [
    {
     "data": {
      "text/plain": [
       "<div class=\"page-content\">\\n<div class=\"page-brand-info\">\\n<div class=\"brand\">\\n<img alt=\"...\" class=\"brand-img\" height=\"50\" src=\"frontend/base/assets/images/logo@2x.png\"/>\\n<h2 class=\"brand-text font-size-40\">RiskPLANT \\u2122</h2>\\n</div>\\n<p class=\"font-size-20\">To provide service to our clients in most economical and safe manner, reducing their cost impact on asset and environment, same time increasing profit for our shareholders. </p>\\n</div>\\n<div class=\"page-login-main\">\\n<div class=\"brand visible-xs\" style=\"text-align:center;\">\\n<img alt=\"RiskPLANT\" class=\"brand-img\" src=\"../../frontend/base/assets/images/logo@2x.png\"/>\\n<h3 class=\"brand-text font-size-40\">RiskPLANT</h3>\\n</div>\\n<p><img class=\"margin-bottom-5 img-responsive\" src=\"frontend/base/assets/images/CME-logo.png\" width=\"300\"/></p>\\n<!--<p align=\"center\"><img src=\"frontend/base/assets/images/logo2.png\" /></p>-->\\n<h3 class=\"font-size-24\">Sign In</h3>\\n<p>Already have an account? Login here. </p>\\n<form action=\"http://www.riskplant.net/login\" class=\"form-horizontal\" method=\"POST\" role=\"form\">\\n<input name=\"_token\" type=\"hidden\" value=\"EszdMJQ6KB6Us37DifboZMVyOnEkVAultYA5nWVj\"/>\\n<div class=\"form-group form-material floating\">\\n<input class=\"form-control\" id=\"username\" name=\"username\" placeholder=\"username\" type=\"text\" value=\"\"/>\\n<label class=\"floating-label\" for=\"username\">User ID</label>\\n</div>\\n<div class=\"form-group form-material floating\">\\n<input class=\"form-control\" id=\"password\" name=\"password\" placeholder=\"password\" type=\"password\"/>\\n<label class=\"floating-label\" for=\"password\">Password</label>\\n</div>\\n<div class=\"form-group clearfix\">\\n<div class=\"checkbox-custom checkbox-inline checkbox-primary pull-left\">\\n<input id=\"remember\" name=\"remember\" type=\"checkbox\"/>\\n<!--<label for=\"inputCheckbox\">Remember me</label>-->\\n</div>\\n<a class=\"pull-right\" href=\"http://www.riskplant.net/password/reset\">Forgot Your Password?</a>\\n</div>\\n<button class=\"btn btn-primary btn-block btn-lg\" onclick=\"check(this.form)\" type=\"submit\">Sign in</button>\\n</form>\\n<!--<p>No account? <a href=\"register-v2<input required\">Sign Up</a></p>-->\\n<footer class=\"page-copyright\">\\n<p>\\xa9 2016, RiskPLANT \\u2122. <br/><a href=\"#\">Privacy Policy</a>\\xa0\\xa0|\\xa0\\xa0<a href=\"#\">Support</a></p>\\n<!--<div class=\"social\">\\n            <a class=\"btn btn-icon btn-round social-twitter\" href=\"javascript:void(0)\">\\n              <i class=\"icon bd-twitter\" aria-hidden=\"true\"></i>\\n            </a>\\n            <a class=\"btn btn-icon btn-round social-facebook\" href=\"javascript:void(0)\">\\n              <i class=\"icon bd-facebook\" aria-hidden=\"true\"></i>\\n            </a>\\n            <a class=\"btn btn-icon btn-round social-google-plus\" href=\"javascript:void(0)\">\\n              <i class=\"icon bd-google-plus\" aria-hidden=\"true\"></i>\\n            </a>\\n          </div>-->\\n</footer>\\n</div>\\n</div>"
      ]
     },
     "execution_count": 59,
     "metadata": {},
     "output_type": "execute_result"
    }
   ],
   "source": [
    "tmp[0]"
   ]
  },
  {
   "cell_type": "code",
   "execution_count": null,
   "metadata": {
    "collapsed": true
   },
   "outputs": [],
   "source": []
  }
 ],
 "metadata": {
  "kernelspec": {
   "display_name": "Python 2",
   "language": "python",
   "name": "python2"
  },
  "language_info": {
   "codemirror_mode": {
    "name": "ipython",
    "version": 2
   },
   "file_extension": ".py",
   "mimetype": "text/x-python",
   "name": "python",
   "nbconvert_exporter": "python",
   "pygments_lexer": "ipython2",
   "version": "2.7.11"
  }
 },
 "nbformat": 4,
 "nbformat_minor": 0
}
