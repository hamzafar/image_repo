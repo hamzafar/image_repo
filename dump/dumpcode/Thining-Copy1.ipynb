{
 "cells": [
  {
   "cell_type": "markdown",
   "metadata": {},
   "source": [
    "# Thinning Damage Factor \n",
    "\n"
   ]
  },
  {
   "cell_type": "code",
   "execution_count": 3,
   "metadata": {
    "collapsed": true
   },
   "outputs": [],
   "source": [
    "import pandas as pd\n",
    "import numpy as np"
   ]
  },
  {
   "cell_type": "markdown",
   "metadata": {},
   "source": [
    "Step1.\tAsk user for the furnished thickness, **t**, and **age**, for the component from installation date."
   ]
  },
  {
   "cell_type": "code",
   "execution_count": 5,
   "metadata": {
    "collapsed": true
   },
   "outputs": [],
   "source": [
    "t = 1 ### user input ###                              \n",
    "age = 10 ### uer input ### "
   ]
  },
  {
   "cell_type": "markdown",
   "metadata": {},
   "source": [
    "Step2.\tDetermine Corrosion Rates (**Cr,bm** and **Cr,cm**), Cr,cm to be computed if cladding present but currently not covered in RiskPLANT 1.01) - refer to **APPENDIX 1**-Measured Corrosion Rates Calculation. "
   ]
  },
  {
   "cell_type": "code",
   "execution_count": 6,
   "metadata": {
    "collapsed": false
   },
   "outputs": [
    {
     "ename": "SyntaxError",
     "evalue": "invalid syntax (<ipython-input-6-7265be1cc633>, line 1)",
     "output_type": "error",
     "traceback": [
      "\u001b[1;36m  File \u001b[1;32m\"<ipython-input-6-7265be1cc633>\"\u001b[1;36m, line \u001b[1;32m1\u001b[0m\n\u001b[1;33m    Cr_bm = #########\u001b[0m\n\u001b[1;37m                     ^\u001b[0m\n\u001b[1;31mSyntaxError\u001b[0m\u001b[1;31m:\u001b[0m invalid syntax\n"
     ]
    }
   ],
   "source": [
    "c_r_bm = \n",
    "c_r_cm = "
   ]
  },
  {
   "cell_type": "markdown",
   "metadata": {},
   "source": [
    "Step3.\tDetermine the time in service. **agetk**, since last inspect known thickness **trdi** i.e. starting thickness.\n",
    "If no **trdi** or **agetk** present\n"
   ]
  },
  {
   "cell_type": "code",
   "execution_count": 9,
   "metadata": {
    "collapsed": true
   },
   "outputs": [],
   "source": [
    "time_in_service = False\n",
    "\n",
    "if(time_in_service == False):\n",
    "    age_tk = age\n",
    "    t_rdi = t\n",
    "else:\n",
    "    ## How to determine the t_rdi & age_tk\n",
    "    pass"
   ]
  },
  {
   "cell_type": "markdown",
   "metadata": {},
   "source": [
    "Step4.\tFor clad components, calculate the time or age from the starting thickness required to corrode away the cladding/weld material, **agerc**, using Equation (2.11) given below"
   ]
  },
  {
   "cell_type": "code",
   "execution_count": 10,
   "metadata": {
    "collapsed": true
   },
   "outputs": [],
   "source": [
    "def age_starting_thickness(t_rdi, t_bm, c_r_cm):\n",
    "    val = (t_rdi - t_bm)/ float(c_r_cm)\n",
    "    age_rc = max(val, 0)\n",
    "    return(age_rc)"
   ]
  },
  {
   "cell_type": "markdown",
   "metadata": {},
   "source": [
    "Step5.\tDetermine **tmin**"
   ]
  },
  {
   "cell_type": "code",
   "execution_count": 14,
   "metadata": {
    "collapsed": false
   },
   "outputs": [],
   "source": [
    "def calculate_tmin(shape_component):\n",
    "    if shape_component in ['cylindrical', 'spherical ', 'head component']:\n",
    "        ## refer to APPENDIX 2-API 579\n",
    "        pass\n",
    "    if shape_component not in ['cylindrical', 'spherical ', 'head component']:\n",
    "        # t_min = tc\n",
    "        #### ???how to determine tc\n",
    "        pass\n",
    "    else:\n",
    "        t_min = 1 ### user input ###  \n",
    "    return(t_min)"
   ]
  },
  {
   "cell_type": "markdown",
   "metadata": {},
   "source": [
    "Step6.\tDetermine the **Art** parameter "
   ]
  },
  {
   "cell_type": "code",
   "execution_count": 16,
   "metadata": {
    "collapsed": true
   },
   "outputs": [],
   "source": [
    "def calculate_a_rt(age_tk, t_rdi, C_r_bm, c_r_cm, t_min, ca, age_rc):\n",
    "    a_rt = None\n",
    "    if(age_rc == 0):\n",
    "        a_rt = (c_r_bm * age_tk)/float(t_rdi)\n",
    "        \n",
    "    elif (age_rc >= 0 and age_tk < age_rc):\n",
    "        a_rt = (c_r_cm * age_tk)/float(t_rdi)\n",
    "        \n",
    "    elif (age_rc >= 0 and age_tk >= age_rc):\n",
    "        a_rt = ((c_r_cm * age_rc) + c_r_bm * (age_tk - age_rc))/ float(t_rdi)\n",
    "    \n",
    "    return(a_rt)        "
   ]
  },
  {
   "cell_type": "markdown",
   "metadata": {},
   "source": [
    "Step7. Calculate Flow Stress **FSThin**"
   ]
  },
  {
   "cell_type": "code",
   "execution_count": 18,
   "metadata": {
    "collapsed": true
   },
   "outputs": [],
   "source": [
    "def calculate_fs_THIN(e, ys, ts):\n",
    "    fs_THIN = ((ys +ts)/float(2)) * (e * 1.1)\n",
    "    return (fs_THIN)"
   ]
  },
  {
   "cell_type": "markdown",
   "metadata": {},
   "source": [
    "Step8.\tCalculate the strength ratio parameter **SRPThin**\n",
    "* we will call *fs_THIN* from step6"
   ]
  },
  {
   "cell_type": "code",
   "execution_count": 25,
   "metadata": {
    "collapsed": false
   },
   "outputs": [],
   "source": [
    "def calculate_strength_ratio(t_rdi, t_min, t_c, s, e, fs_THIN,\n",
    "                             d, shape, p=None):\n",
    "    sr_p_THIN = None\n",
    "    if(p == None):\n",
    "        sr_p_THIN = ((s*e)/ float(fs_THIN)) * (max(t_min, t_c)/float(t_rdi))\n",
    "    \n",
    "    elif(p != None):\n",
    "        a= 0\n",
    "        if(shape == 'spherical'):\n",
    "            a = 4\n",
    "        elif(shape == 'cylindrical'):\n",
    "            a= 2\n",
    "        elif(shape == 'head component'):\n",
    "            a =1.13\n",
    "        sr_p_THIN = (p*d)/float(a * fs_THIN * t_rdi)\n",
    "        \n",
    "    return(sr_p_THIN)"
   ]
  },
  {
   "cell_type": "markdown",
   "metadata": {},
   "source": []
  }
 ],
 "metadata": {
  "kernelspec": {
   "display_name": "Python 2",
   "language": "python",
   "name": "python2"
  },
  "language_info": {
   "codemirror_mode": {
    "name": "ipython",
    "version": 2
   },
   "file_extension": ".py",
   "mimetype": "text/x-python",
   "name": "python",
   "nbconvert_exporter": "python",
   "pygments_lexer": "ipython2",
   "version": "2.7.11"
  }
 },
 "nbformat": 4,
 "nbformat_minor": 0
}
