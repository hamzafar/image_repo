{
 "cells": [
  {
   "cell_type": "markdown",
   "metadata": {},
   "source": [
    "# Thinning Damage Factor \n",
    "\n"
   ]
  },
  {
   "cell_type": "code",
   "execution_count": 1,
   "metadata": {
    "collapsed": true
   },
   "outputs": [],
   "source": [
    "import pandas as pd\n",
    "import numpy as np\n",
    "from scipy.stats import norm"
   ]
  },
  {
   "cell_type": "markdown",
   "metadata": {},
   "source": [
    "### The following code snipet will call each of function defined and will calculated the Thining Damage Factor"
   ]
  },
  {
   "cell_type": "code",
   "execution_count": 49,
   "metadata": {
    "collapsed": false
   },
   "outputs": [
    {
     "name": "stdout",
     "output_type": "stream",
     "text": [
      "c_r_bm: 1.0\n",
      "c_r_cm: 1.0\n",
      "age_tk: 1\n",
      "t_rdi: 10\n",
      "age_rc: 9.0\n",
      "t_min: None\n",
      "a_rt: 0.1\n",
      "fs_THIN: 1.1\n",
      "sr_p_THIN: 0.0909090909091\n",
      "i_1_THIN: 0.02268\n",
      "i_2_THIN: 1.587762e-05\n",
      "i_3_THIN: 2.916e-08\n",
      "po_p1_THIN: 0.999299134414\n",
      "po_p2_THIN: 0.0006995807726\n",
      "po_p3_THIN: 1.28481317282e-06\n",
      "beta_1_THIN: 4.4660508002\n",
      "beta_2_THIN: 4.29786314961\n",
      "beta_3_THIN: 3.5281584708\n",
      "d_fb_THIN: 0.000139552305352\n"
     ]
    },
    {
     "ename": "NameError",
     "evalue": "global name 'flat' is not defined",
     "output_type": "error",
     "traceback": [
      "\u001b[1;31m---------------------------------------------------------------------------\u001b[0m",
      "\u001b[1;31mNameError\u001b[0m                                 Traceback (most recent call last)",
      "\u001b[1;32m<ipython-input-49-7d5b4fb384ae>\u001b[0m in \u001b[0;36m<module>\u001b[1;34m()\u001b[0m\n\u001b[0;32m     73\u001b[0m \u001b[1;33m\u001b[0m\u001b[0m\n\u001b[0;32m     74\u001b[0m \u001b[1;33m\u001b[0m\u001b[0m\n\u001b[1;32m---> 75\u001b[1;33m \u001b[0mcalculate_damage_factor_thining\u001b[0m\u001b[1;33m(\u001b[0m\u001b[0md_fb_THIN\u001b[0m\u001b[1;33m,\u001b[0m \u001b[0mf_om\u001b[0m\u001b[1;33m=\u001b[0m\u001b[1;36m1\u001b[0m\u001b[1;33m,\u001b[0m \u001b[0mf_ip\u001b[0m\u001b[1;33m=\u001b[0m\u001b[1;36m3\u001b[0m\u001b[1;33m,\u001b[0m \u001b[0mf_dl\u001b[0m\u001b[1;33m=\u001b[0m\u001b[1;36m3\u001b[0m\u001b[1;33m)\u001b[0m\u001b[1;33m\u001b[0m\u001b[0m\n\u001b[0m",
      "\u001b[1;32m<ipython-input-17-c02dc4937759>\u001b[0m in \u001b[0;36mcalculate_damage_factor_thining\u001b[1;34m(d_fb_THIN, f_om, f_ip, f_dl)\u001b[0m\n\u001b[0;32m      5\u001b[0m         \u001b[0mf_om\u001b[0m \u001b[1;33m=\u001b[0m \u001b[1;36m2\u001b[0m \u001b[1;31m###user input based on parameter from the table 4.8\u001b[0m\u001b[1;33m\u001b[0m\u001b[0m\n\u001b[0;32m      6\u001b[0m \u001b[1;33m\u001b[0m\u001b[0m\n\u001b[1;32m----> 7\u001b[1;33m     \u001b[0md_f_THIN\u001b[0m \u001b[1;33m=\u001b[0m \u001b[0mmax\u001b[0m\u001b[1;33m(\u001b[0m\u001b[1;33m(\u001b[0m\u001b[0md_fb_THIN\u001b[0m \u001b[1;33m*\u001b[0m \u001b[0mf_ip\u001b[0m \u001b[1;33m*\u001b[0m \u001b[0mf_dl\u001b[0m\u001b[1;33m)\u001b[0m \u001b[1;33m/\u001b[0m \u001b[0mflat\u001b[0m\u001b[1;33m(\u001b[0m\u001b[0mf_om\u001b[0m\u001b[1;33m)\u001b[0m\u001b[1;33m,\u001b[0m \u001b[1;36m0.1\u001b[0m\u001b[1;33m)\u001b[0m\u001b[1;33m\u001b[0m\u001b[0m\n\u001b[0m\u001b[0;32m      8\u001b[0m     \u001b[1;32mreturn\u001b[0m\u001b[1;33m(\u001b[0m\u001b[0md_f_THIN\u001b[0m\u001b[1;33m)\u001b[0m\u001b[1;33m\u001b[0m\u001b[0m\n",
      "\u001b[1;31mNameError\u001b[0m: global name 'flat' is not defined"
     ]
    }
   ],
   "source": [
    "t = 1 ### user input ###                              \n",
    "age = 10 ### uer input ### \n",
    "\n",
    "#calculate corrosion rate takes input from user\n",
    "c_r_bm = calculate_corrosion_rate(1,0,1,0)\n",
    "c_r_cm = calculate_corrosion_rate(1,0,1,0)\n",
    "\n",
    "print 'c_r_bm: %s' %c_r_bm\n",
    "print 'c_r_cm: %s' %c_r_cm\n",
    "\n",
    "\n",
    "age_tk, t_rdi = calculate_time_in_service(t, age)\n",
    "print 'age_tk: %s' %age_tk\n",
    "print 't_rdi: %s' %t_rdi\n",
    "\n",
    "#t_bm is minimum base thickness that will be provided from excell sheet\n",
    "t_bm = 1\n",
    "age_rc = age_starting_thickness(t_rdi, t_bm, c_r_cm)\n",
    "print 'age_rc: %s' %age_rc\n",
    "\n",
    "#Since the shape paramter is not implemented used t_min as user defined\n",
    "t_min = calculate_tmin(shape_component='abc')\n",
    "print 't_min: %s' %t_min\n",
    "t_min = 1\n",
    "\n",
    "#We have defined Corroision Allowance as dummy value\n",
    "ca = 1\n",
    "a_rt = calculate_a_rt(age_tk, t_rdi, c_r_bm, c_r_cm, t_min, ca, age_rc)\n",
    "print 'a_rt: %s' %a_rt\n",
    "\n",
    "# these are the dummy values\n",
    "e=1\n",
    "ys=1\n",
    "ts =1\n",
    "fs_THIN = calculate_fs_THIN(e, ys, ts)\n",
    "print 'fs_THIN: %s' %fs_THIN\n",
    "\n",
    "\n",
    "t_c = 1\n",
    "s = 1\n",
    "d= 1\n",
    "shape ='abc'\n",
    "sr_p_THIN = calculate_strength_ratio(t_rdi, t_min, t_c, s, e, fs_THIN,\n",
    "                             d, shape, p=None)\n",
    "print 'sr_p_THIN: %s' %sr_p_THIN\n",
    "\n",
    "#here dummy values are used to determine effectiveness\n",
    "n_a_THIN = 2\n",
    "n_b_THIN = 1\n",
    "n_c_THIN = 1\n",
    "n_d_THIN = 2\n",
    "i_1_THIN, i_2_THIN, i_3_THIN =calculate_inspection_effectiveness(n_a_THIN, n_b_THIN, n_c_THIN, n_d_THIN)\n",
    "print 'i_1_THIN: %s' %i_1_THIN\n",
    "print 'i_2_THIN: %s' %i_2_THIN\n",
    "print 'i_3_THIN: %s' %i_3_THIN\n",
    "\n",
    "\n",
    "po_p1_THIN, po_p2_THIN, po_p3_THIN = calculate_posterior_probablity(i_1_THIN, i_2_THIN, i_3_THIN)\n",
    "print 'po_p1_THIN: %s' %po_p1_THIN\n",
    "print 'po_p2_THIN: %s' %po_p2_THIN\n",
    "print 'po_p3_THIN: %s' %po_p3_THIN\n",
    "\n",
    "\n",
    "beta_1_THIN, beta_2_THIN, beta_3_THIN = calculate_beta(a_rt, sr_p_THIN)\n",
    "print 'beta_1_THIN: %s' %beta_1_THIN\n",
    "print 'beta_2_THIN: %s' %beta_2_THIN\n",
    "print 'beta_3_THIN: %s' %beta_3_THIN\n",
    "\n",
    "\n",
    "d_fb_THIN = calculate_base_damage_factor(beta_1_THIN, beta_2_THIN, beta_3_THIN, \n",
    "                                         po_p1_THIN, po_p2_THIN, po_p3_THIN)\n",
    "print 'd_fb_THIN: %s' %d_fb_THIN\n",
    "\n",
    "\n",
    "calculate_damage_factor_thining(d_fb_THIN, f_om=1, f_ip=3, f_dl=3)"
   ]
  },
  {
   "cell_type": "markdown",
   "metadata": {},
   "source": [
    "Step1.\tAsk user for the furnished thickness, **t**, and **age**, for the component from installation date."
   ]
  },
  {
   "cell_type": "code",
   "execution_count": 2,
   "metadata": {
    "collapsed": true
   },
   "outputs": [],
   "source": [
    "t = 1 ### user input ###                              \n",
    "age = 10 ### uer input ### "
   ]
  },
  {
   "cell_type": "markdown",
   "metadata": {},
   "source": [
    "Step2.\tDetermine Corrosion Rates (**Cr,bm** and **Cr,cm**), Cr,cm to be computed if cladding present but currently not covered in RiskPLANT 1.01) - refer to **APPENDIX 1**-Measured Corrosion Rates Calculation. "
   ]
  },
  {
   "cell_type": "code",
   "execution_count": 3,
   "metadata": {
    "collapsed": false
   },
   "outputs": [],
   "source": [
    "#c_r_bm = calculate_corrosion_rate(1,0,1,0)\n",
    "#c_r_cm = calculate_corrosion_rate(1,0,1,0)"
   ]
  },
  {
   "cell_type": "code",
   "execution_count": 4,
   "metadata": {
    "collapsed": true
   },
   "outputs": [],
   "source": [
    "def calculate_corrosion_rate(t_initial, t_actual, time_tinitial, time_actual):\n",
    "    cr = (t_initial - t_actual)/float(time_tinitial - time_actual)\n",
    "    return (cr)"
   ]
  },
  {
   "cell_type": "markdown",
   "metadata": {},
   "source": [
    "Step3.\tDetermine the time in service. **agetk**, since last inspect known thickness **trdi** i.e. starting thickness.\n",
    "If no **trdi** or **agetk** present\n",
    "* where **t** is user defined\n",
    "* where **age** is user defined"
   ]
  },
  {
   "cell_type": "code",
   "execution_count": 5,
   "metadata": {
    "collapsed": false
   },
   "outputs": [],
   "source": [
    "def calculate_time_in_service(t, age, time_in_service = False):\n",
    "    age_tk = t\n",
    "    t_rdi = age\n",
    "    if(time_in_service == True):\n",
    "        ## ???How to determine the t_rdi & age_tk    \n",
    "        pass\n",
    "    return(age_tk, t_rdi)"
   ]
  },
  {
   "cell_type": "markdown",
   "metadata": {},
   "source": [
    "Step4.\tFor clad components, calculate the time or age from the starting thickness required to corrode away the cladding/weld material, **agerc**, using Equation (2.11) given below"
   ]
  },
  {
   "cell_type": "code",
   "execution_count": 6,
   "metadata": {
    "collapsed": true
   },
   "outputs": [],
   "source": [
    "def age_starting_thickness(t_rdi, t_bm, c_r_cm):\n",
    "    val = (t_rdi - t_bm)/ float(c_r_cm)\n",
    "    age_rc = max(val, 0)\n",
    "    return(age_rc)"
   ]
  },
  {
   "cell_type": "markdown",
   "metadata": {},
   "source": [
    "Step5.\tDetermine **tmin**"
   ]
  },
  {
   "cell_type": "code",
   "execution_count": 23,
   "metadata": {
    "collapsed": false
   },
   "outputs": [],
   "source": [
    "def calculate_tmin(shape_component):\n",
    "    t_min = None\n",
    "    if shape_component in ['cylindrical', 'spherical ', 'head component']:\n",
    "        ## refer to APPENDIX 2-API 579\n",
    "        pass\n",
    "    if shape_component not in ['cylindrical', 'spherical ', 'head component']:\n",
    "        # t_min = tc\n",
    "        #### ???how to determine tc\n",
    "        pass\n",
    "    else:\n",
    "        t_min = 1 ### user input ###  \n",
    "    return(t_min)"
   ]
  },
  {
   "cell_type": "markdown",
   "metadata": {},
   "source": [
    "Step6.\tDetermine the **Art** parameter \n",
    "* where **t_min** is determined by function **calculate_tmin** from Step5\n",
    "* and **age_rc** is determined by function **age_starting_thickness** from Step4"
   ]
  },
  {
   "cell_type": "code",
   "execution_count": 8,
   "metadata": {
    "collapsed": true
   },
   "outputs": [],
   "source": [
    "def calculate_a_rt(age_tk, t_rdi, c_r_bm, c_r_cm, t_min, ca, age_rc):\n",
    "    a_rt = None\n",
    "    if(age_rc == 0):\n",
    "        a_rt = (c_r_bm * age_tk)/float(t_rdi)\n",
    "        \n",
    "    elif (age_rc >= 0 and age_tk < age_rc):\n",
    "        a_rt = (c_r_cm * age_tk)/float(t_rdi)\n",
    "        \n",
    "    elif (age_rc >= 0 and age_tk >= age_rc):\n",
    "        a_rt = ((c_r_cm * age_rc) + c_r_bm * (age_tk - age_rc))/ float(t_rdi)\n",
    "    \n",
    "    return(a_rt)        "
   ]
  },
  {
   "cell_type": "markdown",
   "metadata": {},
   "source": [
    "Step7. Calculate Flow Stress **FSThin**"
   ]
  },
  {
   "cell_type": "code",
   "execution_count": 9,
   "metadata": {
    "collapsed": true
   },
   "outputs": [],
   "source": [
    "def calculate_fs_THIN(e, ys, ts):\n",
    "    fs_THIN = ((ys +ts)/float(2)) * (e * 1.1)\n",
    "    return (fs_THIN)"
   ]
  },
  {
   "cell_type": "markdown",
   "metadata": {},
   "source": [
    "Step8.\tCalculate the strength ratio parameter **SRPThin**\n",
    "* we will call **fs_THIN** from step7"
   ]
  },
  {
   "cell_type": "code",
   "execution_count": 10,
   "metadata": {
    "collapsed": false
   },
   "outputs": [],
   "source": [
    "def calculate_strength_ratio(t_rdi, t_min, t_c, s, e, fs_THIN,\n",
    "                             d, shape, p=None):\n",
    "    sr_p_THIN = None\n",
    "    if(p == None):\n",
    "        sr_p_THIN = ((s*e)/ float(fs_THIN)) * (max(t_min, t_c)/float(t_rdi))\n",
    "    \n",
    "    elif(p != None):\n",
    "        a= 0\n",
    "        if(shape == 'spherical'):\n",
    "            a = 4\n",
    "        elif(shape == 'cylindrical'):\n",
    "            a= 2\n",
    "        elif(shape == 'head component'):\n",
    "            a =1.13\n",
    "        sr_p_THIN = (p*d)/float(a * fs_THIN * t_rdi)\n",
    "        \n",
    "    return(sr_p_THIN)"
   ]
  },
  {
   "cell_type": "markdown",
   "metadata": {},
   "source": [
    "step9.\tDetermine the number of inspections for each of the corresponding inspection effectiveness"
   ]
  },
  {
   "cell_type": "code",
   "execution_count": 11,
   "metadata": {
    "collapsed": false
   },
   "outputs": [],
   "source": [
    "###??? how to determine N values\n",
    "\n",
    "n_a_THIN = 2\n",
    "n_b_THIN = 1\n",
    "n_c_THIN = 1\n",
    "n_d_THIN = 2"
   ]
  },
  {
   "cell_type": "markdown",
   "metadata": {},
   "source": [
    "step10.\tCalculate the inspection effectiveness factors"
   ]
  },
  {
   "cell_type": "code",
   "execution_count": 12,
   "metadata": {
    "collapsed": true
   },
   "outputs": [],
   "source": [
    "def calculate_inspection_effectiveness(n_a_THIN, n_b_THIN, n_c_THIN, n_d_THIN,\n",
    "                                      pr_p1_THIN = 0.5, pr_p2_THIN = 0.3, pr_p3_THIN = 0.2):\n",
    "    \n",
    "    co_p1_THINA, co_p1_THINB, co_p1_THINC, co_p1_THIND = 0.9, 0.7, 0.5, 0.4\n",
    "    co_p2_THINA, co_p2_THINB, co_p2_THINC, co_p2_THIND = 0.09, 0.2, 0.3, 0.33\n",
    "    co_p3_THINA, co_p3_THINB, co_p3_THINC, co_p3_THIND = 0.01, 0.1, 0.2, 0.27\n",
    "    \n",
    "    i_1_THIN = pr_p1_THIN * (co_p1_THINA ** n_a_THIN) * (co_p1_THINB ** n_b_THIN) * (co_p1_THINC ** n_c_THIN) * (co_p1_THIND ** n_d_THIN)\n",
    "    \n",
    "    i_2_THIN = pr_p2_THIN * (co_p2_THINA ** n_a_THIN) * (co_p2_THINB ** n_b_THIN) * (co_p2_THINC ** n_c_THIN) * (co_p2_THIND ** n_d_THIN)\n",
    "    \n",
    "    i_3_THIN = pr_p3_THIN * (co_p3_THINA ** n_a_THIN) * (co_p3_THINB ** n_b_THIN) * (co_p3_THINC ** n_c_THIN) * (co_p3_THIND ** n_d_THIN)\n",
    "    \n",
    "    return(i_1_THIN, i_2_THIN, i_3_THIN)"
   ]
  },
  {
   "cell_type": "markdown",
   "metadata": {},
   "source": [
    "Part11.\tCalculate Posterior Probabilities\n",
    "* In this function we will use function **calculate_inspection_effectiveness** to determine **i** values from step 10"
   ]
  },
  {
   "cell_type": "code",
   "execution_count": 13,
   "metadata": {
    "collapsed": true
   },
   "outputs": [],
   "source": [
    "def calculate_posterior_probablity(i_1_THIN, i_2_THIN, i_3_THIN):\n",
    "    \n",
    "    po_p1_THIN = i_1_THIN / float(i_1_THIN + i_2_THIN + i_3_THIN)\n",
    "    po_p2_THIN = i_2_THIN / float(i_1_THIN + i_2_THIN + i_3_THIN)\n",
    "    po_p3_THIN = i_3_THIN / float(i_1_THIN + i_2_THIN + i_3_THIN)\n",
    "    \n",
    "    return(po_p1_THIN, po_p2_THIN, po_p3_THIN)"
   ]
  },
  {
   "cell_type": "markdown",
   "metadata": {},
   "source": [
    "Step12.\tCalculate the parameters **beta** values\n",
    "* where **sr_p_THIN ** is determined by function **calculate_strength_ratio** from step8\n",
    "* where **a_rt** is determined by function **calculate_a_rt** from step6"
   ]
  },
  {
   "cell_type": "code",
   "execution_count": 44,
   "metadata": {
    "collapsed": true
   },
   "outputs": [],
   "source": [
    "def calculate_beta(a_rt, sr_p_THIN):\n",
    "        d_s1, d_s2, d_s3 = 1, 2, 4\n",
    "        cov_p, cov_sf, cov_deltaT = 0.05, 0.2, 0.2\n",
    "        \n",
    "        beta_1_THIN = return_beta(d_s1, a_rt, cov_deltaT, cov_sf, sr_p_THIN, cov_p)\n",
    "        beta_2_THIN = return_beta(d_s2, a_rt, cov_deltaT, cov_sf, sr_p_THIN, cov_p)\n",
    "        beta_3_THIN = return_beta(d_s3, a_rt, cov_deltaT, cov_sf, sr_p_THIN, cov_p)\n",
    "        \n",
    "        return(beta_1_THIN, beta_2_THIN, beta_3_THIN)"
   ]
  },
  {
   "cell_type": "code",
   "execution_count": 43,
   "metadata": {
    "collapsed": true
   },
   "outputs": [],
   "source": [
    "def return_beta(d_s, a_rt, cov_deltaT, cov_sf, sr_p_THIN, cov_p):\n",
    "        sq_ds = d_s**2\n",
    "        sq_art = a_rt**2\n",
    "        sq_cov_delta = cov_deltaT**2\n",
    "        sq_1_minus = (1 - d_s * a_rt)**2\n",
    "        sq_cov_sf = cov_sf**2\n",
    "        sq_sr_p = sr_p_THIN**2\n",
    "        sq_cov_p = cov_p**2\n",
    "        \n",
    "        denominator = np.sqrt(sq_ds * sq_art * sq_cov_delta + sq_1_minus * sq_cov_sf + sq_sr_p * sq_cov_p)\n",
    "        \n",
    "        beta_THIN = (1 - d_s * a_rt - sr_p_THIN) / float(denominator)\n",
    "        return(beta_THIN)"
   ]
  },
  {
   "cell_type": "markdown",
   "metadata": {},
   "source": [
    "Step13 .Determine the base damage factor for thinning, thin **d_fB_THIN **\n",
    "* where **beta** is determined by function **calculate_beta** from step12\n",
    "* where **po_p_THIN** is determined by function **calculate_posterior_probablity** from step11"
   ]
  },
  {
   "cell_type": "code",
   "execution_count": 16,
   "metadata": {
    "collapsed": false
   },
   "outputs": [],
   "source": [
    "def calculate_base_damage_factor(beta_1_THIN, beta_2_THIN, beta_3_THIN,\n",
    "                                po_p1_THIN, po_p2_THIN, po_p3_THIN):\n",
    "    \n",
    "    norm1 = norm.cdf(-1*beta_1_THIN)\n",
    "    norm2 = norm.cdf(-1*beta_2_THIN)\n",
    "    norm3 = norm.cdf(-1*beta_3_THIN)\n",
    "    \n",
    "    numerator = (po_p1_THIN * norm1) + (po_p2_THIN * norm2) + (po_p3_THIN * norm3)\n",
    "    d_fb_THIN = numerator / float(1.56*np.exp(-4))\n",
    "    \n",
    "    return d_fb_THIN"
   ]
  },
  {
   "cell_type": "markdown",
   "metadata": {},
   "source": [
    "Step14.\tDetermine the damage factor for thinning **d_f_THIN**\n",
    "* where **d_fb_THIN** is determined by function **calculate_base_damage_factor**\n",
    "    "
   ]
  },
  {
   "cell_type": "code",
   "execution_count": 50,
   "metadata": {
    "collapsed": true
   },
   "outputs": [],
   "source": [
    "def calculate_damage_factor_thining(d_fb_THIN, f_om = 1, f_ip = 3, f_dl = 3):\n",
    "    if(d_fb_THIN == 0):\n",
    "        f_om = 1\n",
    "    else:\n",
    "        f_om = 2 ###user input based on parameter from the table 4.8\n",
    "    \n",
    "    d_f_THIN = max((d_fb_THIN * f_ip * f_dl) / float(f_om), 0.1)\n",
    "    return(d_f_THIN)"
   ]
  }
 ],
 "metadata": {
  "kernelspec": {
   "display_name": "Python 2",
   "language": "python",
   "name": "python2"
  },
  "language_info": {
   "codemirror_mode": {
    "name": "ipython",
    "version": 2
   },
   "file_extension": ".py",
   "mimetype": "text/x-python",
   "name": "python",
   "nbconvert_exporter": "python",
   "pygments_lexer": "ipython2",
   "version": "2.7.11"
  }
 },
 "nbformat": 4,
 "nbformat_minor": 0
}
