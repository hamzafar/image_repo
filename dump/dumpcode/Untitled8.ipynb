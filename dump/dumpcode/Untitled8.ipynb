{
 "cells": [
  {
   "cell_type": "code",
   "execution_count": 1,
   "metadata": {
    "collapsed": true
   },
   "outputs": [],
   "source": [
    "import pandas as pd"
   ]
  },
  {
   "cell_type": "code",
   "execution_count": 3,
   "metadata": {
    "collapsed": false
   },
   "outputs": [],
   "source": [
    "config_file = pd.read_excel('D:/Configuration.xlsx')"
   ]
  },
  {
   "cell_type": "code",
   "execution_count": 5,
   "metadata": {
    "collapsed": false
   },
   "outputs": [],
   "source": [
    "clnd_file = config_file[config_file.columns[0:2]]"
   ]
  },
  {
   "cell_type": "code",
   "execution_count": 32,
   "metadata": {
    "collapsed": false
   },
   "outputs": [
    {
     "data": {
      "text/html": [
       "<div>\n",
       "<table border=\"1\" class=\"dataframe\">\n",
       "  <thead>\n",
       "    <tr style=\"text-align: right;\">\n",
       "      <th></th>\n",
       "      <th>Configuration variable</th>\n",
       "      <th>default value</th>\n",
       "    </tr>\n",
       "  </thead>\n",
       "  <tbody>\n",
       "    <tr>\n",
       "      <th>0</th>\n",
       "      <td>language</td>\n",
       "      <td>English</td>\n",
       "    </tr>\n",
       "    <tr>\n",
       "      <th>1</th>\n",
       "      <td>units</td>\n",
       "      <td>SI</td>\n",
       "    </tr>\n",
       "    <tr>\n",
       "      <th>2</th>\n",
       "      <td>data format</td>\n",
       "      <td>dd/mm/yyyy</td>\n",
       "    </tr>\n",
       "    <tr>\n",
       "      <th>3</th>\n",
       "      <td>currency</td>\n",
       "      <td>Dollar ($)</td>\n",
       "    </tr>\n",
       "    <tr>\n",
       "      <th>4</th>\n",
       "      <td>cost factor</td>\n",
       "      <td>1</td>\n",
       "    </tr>\n",
       "    <tr>\n",
       "      <th>5</th>\n",
       "      <td>Risk Matrix size</td>\n",
       "      <td>5 x 5</td>\n",
       "    </tr>\n",
       "    <tr>\n",
       "      <th>6</th>\n",
       "      <td>Liquid Discharge \\nCoefficient (Cd)</td>\n",
       "      <td>0.61</td>\n",
       "    </tr>\n",
       "    <tr>\n",
       "      <th>7</th>\n",
       "      <td>Vapor Discharge\\n Coefficient (Cd)</td>\n",
       "      <td>0.9</td>\n",
       "    </tr>\n",
       "    <tr>\n",
       "      <th>8</th>\n",
       "      <td>MAWP</td>\n",
       "      <td>4</td>\n",
       "    </tr>\n",
       "    <tr>\n",
       "      <th>9</th>\n",
       "      <td>adjustment for dead legs(FDL )</td>\n",
       "      <td>3</td>\n",
       "    </tr>\n",
       "    <tr>\n",
       "      <th>10</th>\n",
       "      <td>adjustment for injection points(FIP)</td>\n",
       "      <td>3</td>\n",
       "    </tr>\n",
       "    <tr>\n",
       "      <th>11</th>\n",
       "      <td>adjustment for online monitoring(FOM)</td>\n",
       "      <td>1</td>\n",
       "    </tr>\n",
       "    <tr>\n",
       "      <th>12</th>\n",
       "      <td>Management Systems factor(FMS)</td>\n",
       "      <td>NaN</td>\n",
       "    </tr>\n",
       "    <tr>\n",
       "      <th>13</th>\n",
       "      <td>leak hole sizes</td>\n",
       "      <td>NaN</td>\n",
       "    </tr>\n",
       "    <tr>\n",
       "      <th>14</th>\n",
       "      <td>material factor</td>\n",
       "      <td>NaN</td>\n",
       "    </tr>\n",
       "    <tr>\n",
       "      <th>15</th>\n",
       "      <td>down time</td>\n",
       "      <td>NaN</td>\n",
       "    </tr>\n",
       "    <tr>\n",
       "      <th>16</th>\n",
       "      <td>Coefficient of Varience for pressure (COVp)</td>\n",
       "      <td>0.05</td>\n",
       "    </tr>\n",
       "    <tr>\n",
       "      <th>17</th>\n",
       "      <td>Coefficient of Varience for Flow Stress (COVsf )</td>\n",
       "      <td>0.2</td>\n",
       "    </tr>\n",
       "    <tr>\n",
       "      <th>18</th>\n",
       "      <td>Coefficient of Varience for Thinning (COVΔt )</td>\n",
       "      <td>0.2</td>\n",
       "    </tr>\n",
       "    <tr>\n",
       "      <th>19</th>\n",
       "      <td>Corrosion rate factor for damage state 2 (Ds1)</td>\n",
       "      <td>1</td>\n",
       "    </tr>\n",
       "    <tr>\n",
       "      <th>20</th>\n",
       "      <td>Corrosion rate factor for damage state 1 (Ds2)</td>\n",
       "      <td>2</td>\n",
       "    </tr>\n",
       "    <tr>\n",
       "      <th>21</th>\n",
       "      <td>Corrosion rate factor for damage state 3 (Ds3)</td>\n",
       "      <td>4</td>\n",
       "    </tr>\n",
       "  </tbody>\n",
       "</table>\n",
       "</div>"
      ],
      "text/plain": [
       "                              Configuration variable default value\n",
       "0                                           language       English\n",
       "1                                              units            SI\n",
       "2                                        data format    dd/mm/yyyy\n",
       "3                                           currency    Dollar ($)\n",
       "4                                        cost factor             1\n",
       "5                                  Risk Matrix size          5 x 5\n",
       "6                Liquid Discharge \\nCoefficient (Cd)          0.61\n",
       "7                 Vapor Discharge\\n Coefficient (Cd)           0.9\n",
       "8                                               MAWP             4\n",
       "9                     adjustment for dead legs(FDL )             3\n",
       "10              adjustment for injection points(FIP)             3\n",
       "11             adjustment for online monitoring(FOM)             1\n",
       "12                    Management Systems factor(FMS)           NaN\n",
       "13                                   leak hole sizes           NaN\n",
       "14                                   material factor           NaN\n",
       "15                                         down time           NaN\n",
       "16       Coefficient of Varience for pressure (COVp)          0.05\n",
       "17  Coefficient of Varience for Flow Stress (COVsf )           0.2\n",
       "18     Coefficient of Varience for Thinning (COVΔt )           0.2\n",
       "19    Corrosion rate factor for damage state 2 (Ds1)             1\n",
       "20    Corrosion rate factor for damage state 1 (Ds2)             2\n",
       "21    Corrosion rate factor for damage state 3 (Ds3)             4"
      ]
     },
     "execution_count": 32,
     "metadata": {},
     "output_type": "execute_result"
    }
   ],
   "source": [
    "clnd_file"
   ]
  },
  {
   "cell_type": "code",
   "execution_count": 141,
   "metadata": {
    "collapsed": false
   },
   "outputs": [],
   "source": [
    "df__ = pd.DataFrame(columns=clnd_file['Configuration variable'])"
   ]
  },
  {
   "cell_type": "code",
   "execution_count": 142,
   "metadata": {
    "collapsed": false
   },
   "outputs": [
    {
     "data": {
      "text/html": [
       "<div>\n",
       "<table border=\"1\" class=\"dataframe\">\n",
       "  <thead>\n",
       "    <tr style=\"text-align: right;\">\n",
       "      <th>Configuration variable</th>\n",
       "      <th>language</th>\n",
       "      <th>units</th>\n",
       "      <th>data format</th>\n",
       "      <th>currency</th>\n",
       "      <th>cost factor</th>\n",
       "      <th>Risk Matrix size</th>\n",
       "      <th>Liquid Discharge \n",
       "Coefficient (Cd)</th>\n",
       "      <th>Vapor Discharge\n",
       " Coefficient (Cd)</th>\n",
       "      <th>MAWP</th>\n",
       "      <th>adjustment for dead legs(FDL )</th>\n",
       "      <th>...</th>\n",
       "      <th>Management Systems factor(FMS)</th>\n",
       "      <th>leak hole sizes</th>\n",
       "      <th>material factor</th>\n",
       "      <th>down time</th>\n",
       "      <th>Coefficient of Varience for pressure (COVp)</th>\n",
       "      <th>Coefficient of Varience for Flow Stress (COVsf )</th>\n",
       "      <th>Coefficient of Varience for Thinning (COVΔt )</th>\n",
       "      <th>Corrosion rate factor for damage state 2 (Ds1)</th>\n",
       "      <th>Corrosion rate factor for damage state 1 (Ds2)</th>\n",
       "      <th>Corrosion rate factor for damage state 3 (Ds3)</th>\n",
       "    </tr>\n",
       "  </thead>\n",
       "  <tbody>\n",
       "  </tbody>\n",
       "</table>\n",
       "<p>0 rows × 22 columns</p>\n",
       "</div>"
      ],
      "text/plain": [
       "Empty DataFrame\n",
       "Columns: [language, units, data format, currency, cost factor, Risk Matrix size , Liquid Discharge \n",
       "Coefficient (Cd), Vapor Discharge\n",
       " Coefficient (Cd), MAWP, adjustment for dead legs(FDL ), adjustment for injection points(FIP), adjustment for online monitoring(FOM), Management Systems factor(FMS), leak hole sizes, material factor, down time, Coefficient of Varience for pressure (COVp), Coefficient of Varience for Flow Stress (COVsf ), Coefficient of Varience for Thinning (COVΔt ), Corrosion rate factor for damage state 2 (Ds1), Corrosion rate factor for damage state 1 (Ds2), Corrosion rate factor for damage state 3 (Ds3)]\n",
       "Index: []\n",
       "\n",
       "[0 rows x 22 columns]"
      ]
     },
     "execution_count": 142,
     "metadata": {},
     "output_type": "execute_result"
    }
   ],
   "source": [
    "df__"
   ]
  },
  {
   "cell_type": "code",
   "execution_count": 23,
   "metadata": {
    "collapsed": false
   },
   "outputs": [],
   "source": [
    "av = clnd_file.transpose()"
   ]
  },
  {
   "cell_type": "code",
   "execution_count": 99,
   "metadata": {
    "collapsed": false
   },
   "outputs": [
    {
     "data": {
      "text/html": [
       "<div>\n",
       "<table border=\"1\" class=\"dataframe\">\n",
       "  <thead>\n",
       "    <tr style=\"text-align: right;\">\n",
       "      <th></th>\n",
       "      <th>0</th>\n",
       "      <th>1</th>\n",
       "      <th>2</th>\n",
       "      <th>3</th>\n",
       "      <th>4</th>\n",
       "      <th>5</th>\n",
       "      <th>6</th>\n",
       "      <th>7</th>\n",
       "      <th>8</th>\n",
       "      <th>9</th>\n",
       "      <th>...</th>\n",
       "      <th>12</th>\n",
       "      <th>13</th>\n",
       "      <th>14</th>\n",
       "      <th>15</th>\n",
       "      <th>16</th>\n",
       "      <th>17</th>\n",
       "      <th>18</th>\n",
       "      <th>19</th>\n",
       "      <th>20</th>\n",
       "      <th>21</th>\n",
       "    </tr>\n",
       "  </thead>\n",
       "  <tbody>\n",
       "    <tr>\n",
       "      <th>Configuration variable</th>\n",
       "      <td>language</td>\n",
       "      <td>units</td>\n",
       "      <td>data format</td>\n",
       "      <td>currency</td>\n",
       "      <td>cost factor</td>\n",
       "      <td>Risk Matrix size</td>\n",
       "      <td>Liquid Discharge \\nCoefficient (Cd)</td>\n",
       "      <td>Vapor Discharge\\n Coefficient (Cd)</td>\n",
       "      <td>MAWP</td>\n",
       "      <td>adjustment for dead legs(FDL )</td>\n",
       "      <td>...</td>\n",
       "      <td>Management Systems factor(FMS)</td>\n",
       "      <td>leak hole sizes</td>\n",
       "      <td>material factor</td>\n",
       "      <td>down time</td>\n",
       "      <td>Coefficient of Varience for pressure (COVp)</td>\n",
       "      <td>Coefficient of Varience for Flow Stress (COVsf )</td>\n",
       "      <td>Coefficient of Varience for Thinning (COVΔt )</td>\n",
       "      <td>Corrosion rate factor for damage state 2 (Ds1)</td>\n",
       "      <td>Corrosion rate factor for damage state 1 (Ds2)</td>\n",
       "      <td>Corrosion rate factor for damage state 3 (Ds3)</td>\n",
       "    </tr>\n",
       "    <tr>\n",
       "      <th>default value</th>\n",
       "      <td>English</td>\n",
       "      <td>SI</td>\n",
       "      <td>dd/mm/yyyy</td>\n",
       "      <td>Dollar ($)</td>\n",
       "      <td>1</td>\n",
       "      <td>5 x 5</td>\n",
       "      <td>0.61</td>\n",
       "      <td>0.9</td>\n",
       "      <td>4</td>\n",
       "      <td>3</td>\n",
       "      <td>...</td>\n",
       "      <td>NaN</td>\n",
       "      <td>NaN</td>\n",
       "      <td>NaN</td>\n",
       "      <td>NaN</td>\n",
       "      <td>0.05</td>\n",
       "      <td>0.2</td>\n",
       "      <td>0.2</td>\n",
       "      <td>1</td>\n",
       "      <td>2</td>\n",
       "      <td>4</td>\n",
       "    </tr>\n",
       "  </tbody>\n",
       "</table>\n",
       "<p>2 rows × 22 columns</p>\n",
       "</div>"
      ],
      "text/plain": [
       "                              0      1            2           3            4   \\\n",
       "Configuration variable  language  units  data format    currency  cost factor   \n",
       "default value            English     SI   dd/mm/yyyy  Dollar ($)            1   \n",
       "\n",
       "                                       5   \\\n",
       "Configuration variable  Risk Matrix size    \n",
       "default value                       5 x 5   \n",
       "\n",
       "                                                         6   \\\n",
       "Configuration variable  Liquid Discharge \\nCoefficient (Cd)   \n",
       "default value                                          0.61   \n",
       "\n",
       "                                                        7     8   \\\n",
       "Configuration variable  Vapor Discharge\\n Coefficient (Cd)  MAWP   \n",
       "default value                                          0.9     4   \n",
       "\n",
       "                                                    9   \\\n",
       "Configuration variable  adjustment for dead legs(FDL )   \n",
       "default value                                        3   \n",
       "\n",
       "                                             ...                        \\\n",
       "Configuration variable                       ...                         \n",
       "default value                                ...                         \n",
       "\n",
       "                                                    12               13  \\\n",
       "Configuration variable  Management Systems factor(FMS)  leak hole sizes   \n",
       "default value                                      NaN              NaN   \n",
       "\n",
       "                                     14         15  \\\n",
       "Configuration variable  material factor  down time   \n",
       "default value                       NaN        NaN   \n",
       "\n",
       "                                                                 16  \\\n",
       "Configuration variable  Coefficient of Varience for pressure (COVp)   \n",
       "default value                                                  0.05   \n",
       "\n",
       "                                                                      17  \\\n",
       "Configuration variable  Coefficient of Varience for Flow Stress (COVsf )   \n",
       "default value                                                        0.2   \n",
       "\n",
       "                                                                   18  \\\n",
       "Configuration variable  Coefficient of Varience for Thinning (COVΔt )   \n",
       "default value                                                     0.2   \n",
       "\n",
       "                                                                    19  \\\n",
       "Configuration variable  Corrosion rate factor for damage state 2 (Ds1)   \n",
       "default value                                                        1   \n",
       "\n",
       "                                                                    20  \\\n",
       "Configuration variable  Corrosion rate factor for damage state 1 (Ds2)   \n",
       "default value                                                        2   \n",
       "\n",
       "                                                                    21  \n",
       "Configuration variable  Corrosion rate factor for damage state 3 (Ds3)  \n",
       "default value                                                        4  \n",
       "\n",
       "[2 rows x 22 columns]"
      ]
     },
     "execution_count": 99,
     "metadata": {},
     "output_type": "execute_result"
    }
   ],
   "source": [
    "av"
   ]
  },
  {
   "cell_type": "code",
   "execution_count": 61,
   "metadata": {
    "collapsed": false
   },
   "outputs": [
    {
     "data": {
      "text/plain": [
       "0                                             language\n",
       "1                                                units\n",
       "2                                          data format\n",
       "3                                             currency\n",
       "4                                          cost factor\n",
       "5                                    Risk Matrix size \n",
       "6                  Liquid Discharge \\nCoefficient (Cd)\n",
       "7                   Vapor Discharge\\n Coefficient (Cd)\n",
       "8                                                 MAWP\n",
       "9                       adjustment for dead legs(FDL )\n",
       "10                adjustment for injection points(FIP)\n",
       "11               adjustment for online monitoring(FOM)\n",
       "12                      Management Systems factor(FMS)\n",
       "13                                     leak hole sizes\n",
       "14                                     material factor\n",
       "15                                           down time\n",
       "16         Coefficient of Varience for pressure (COVp)\n",
       "17    Coefficient of Varience for Flow Stress (COVsf )\n",
       "18       Coefficient of Varience for Thinning (COVΔt )\n",
       "19      Corrosion rate factor for damage state 2 (Ds1)\n",
       "20      Corrosion rate factor for damage state 1 (Ds2)\n",
       "21      Corrosion rate factor for damage state 3 (Ds3)\n",
       "Name: Configuration variable, dtype: object"
      ]
     },
     "execution_count": 61,
     "metadata": {},
     "output_type": "execute_result"
    }
   ],
   "source": [
    "av.iloc[0]\n",
    "av.iloc[0]"
   ]
  },
  {
   "cell_type": "code",
   "execution_count": 96,
   "metadata": {
    "collapsed": false
   },
   "outputs": [],
   "source": [
    "df_ = pd.DataFrame(columns=list(av.iloc[[0]]))"
   ]
  },
  {
   "cell_type": "code",
   "execution_count": 97,
   "metadata": {
    "collapsed": false
   },
   "outputs": [
    {
     "data": {
      "text/html": [
       "<div>\n",
       "<table border=\"1\" class=\"dataframe\">\n",
       "  <thead>\n",
       "    <tr style=\"text-align: right;\">\n",
       "      <th></th>\n",
       "      <th>0</th>\n",
       "      <th>1</th>\n",
       "      <th>2</th>\n",
       "      <th>3</th>\n",
       "      <th>4</th>\n",
       "      <th>5</th>\n",
       "      <th>6</th>\n",
       "      <th>7</th>\n",
       "      <th>8</th>\n",
       "      <th>9</th>\n",
       "      <th>...</th>\n",
       "      <th>12</th>\n",
       "      <th>13</th>\n",
       "      <th>14</th>\n",
       "      <th>15</th>\n",
       "      <th>16</th>\n",
       "      <th>17</th>\n",
       "      <th>18</th>\n",
       "      <th>19</th>\n",
       "      <th>20</th>\n",
       "      <th>21</th>\n",
       "    </tr>\n",
       "  </thead>\n",
       "  <tbody>\n",
       "  </tbody>\n",
       "</table>\n",
       "<p>0 rows × 22 columns</p>\n",
       "</div>"
      ],
      "text/plain": [
       "Empty DataFrame\n",
       "Columns: [0, 1, 2, 3, 4, 5, 6, 7, 8, 9, 10, 11, 12, 13, 14, 15, 16, 17, 18, 19, 20, 21]\n",
       "Index: []\n",
       "\n",
       "[0 rows x 22 columns]"
      ]
     },
     "execution_count": 97,
     "metadata": {},
     "output_type": "execute_result"
    }
   ],
   "source": [
    "df_"
   ]
  },
  {
   "cell_type": "code",
   "execution_count": 85,
   "metadata": {
    "collapsed": false
   },
   "outputs": [
    {
     "data": {
      "text/plain": [
       "22"
      ]
     },
     "execution_count": 85,
     "metadata": {},
     "output_type": "execute_result"
    }
   ],
   "source": [
    "len(av.iloc[0])"
   ]
  },
  {
   "cell_type": "code",
   "execution_count": 102,
   "metadata": {
    "collapsed": false
   },
   "outputs": [],
   "source": [
    "df_[df_.columns[0]] = av.iloc[1][0]"
   ]
  },
  {
   "cell_type": "code",
   "execution_count": 103,
   "metadata": {
    "collapsed": false
   },
   "outputs": [
    {
     "data": {
      "text/html": [
       "<div>\n",
       "<table border=\"1\" class=\"dataframe\">\n",
       "  <thead>\n",
       "    <tr style=\"text-align: right;\">\n",
       "      <th></th>\n",
       "      <th>0</th>\n",
       "      <th>1</th>\n",
       "      <th>2</th>\n",
       "      <th>3</th>\n",
       "      <th>4</th>\n",
       "      <th>5</th>\n",
       "      <th>6</th>\n",
       "      <th>7</th>\n",
       "      <th>8</th>\n",
       "      <th>9</th>\n",
       "      <th>...</th>\n",
       "      <th>12</th>\n",
       "      <th>13</th>\n",
       "      <th>14</th>\n",
       "      <th>15</th>\n",
       "      <th>16</th>\n",
       "      <th>17</th>\n",
       "      <th>18</th>\n",
       "      <th>19</th>\n",
       "      <th>20</th>\n",
       "      <th>21</th>\n",
       "    </tr>\n",
       "  </thead>\n",
       "  <tbody>\n",
       "  </tbody>\n",
       "</table>\n",
       "<p>0 rows × 22 columns</p>\n",
       "</div>"
      ],
      "text/plain": [
       "Empty DataFrame\n",
       "Columns: [0, 1, 2, 3, 4, 5, 6, 7, 8, 9, 10, 11, 12, 13, 14, 15, 16, 17, 18, 19, 20, 21]\n",
       "Index: []\n",
       "\n",
       "[0 rows x 22 columns]"
      ]
     },
     "execution_count": 103,
     "metadata": {},
     "output_type": "execute_result"
    }
   ],
   "source": [
    "df_"
   ]
  },
  {
   "cell_type": "code",
   "execution_count": 100,
   "metadata": {
    "collapsed": false
   },
   "outputs": [
    {
     "name": "stdout",
     "output_type": "stream",
     "text": [
      "0\n",
      "Series([], Name: 0, dtype: object)\n",
      "English\n",
      "1\n",
      "Series([], Name: 1, dtype: object)\n",
      "SI\n",
      "2\n",
      "Series([], Name: 2, dtype: object)\n",
      "dd/mm/yyyy\n",
      "3\n",
      "Series([], Name: 3, dtype: object)\n",
      "Dollar ($)\n",
      "4\n",
      "Series([], Name: 4, dtype: object)\n",
      "1\n",
      "5\n",
      "Series([], Name: 5, dtype: object)\n",
      "5 x 5\n",
      "6\n",
      "Series([], Name: 6, dtype: object)\n",
      "0.61\n",
      "7\n",
      "Series([], Name: 7, dtype: object)\n",
      "0.9\n",
      "8\n",
      "Series([], Name: 8, dtype: object)\n",
      "4\n",
      "9\n",
      "Series([], Name: 9, dtype: object)\n",
      "3\n",
      "10\n",
      "Series([], Name: 10, dtype: object)\n",
      "3\n",
      "11\n",
      "Series([], Name: 11, dtype: object)\n",
      "1\n",
      "12\n",
      "Series([], Name: 12, dtype: object)\n",
      "nan\n",
      "13\n",
      "Series([], Name: 13, dtype: object)\n",
      "nan\n",
      "14\n",
      "Series([], Name: 14, dtype: object)\n",
      "nan\n",
      "15\n",
      "Series([], Name: 15, dtype: object)\n",
      "nan\n",
      "16\n",
      "Series([], Name: 16, dtype: object)\n",
      "0.05\n",
      "17\n",
      "Series([], Name: 17, dtype: object)\n",
      "0.2\n",
      "18\n",
      "Series([], Name: 18, dtype: object)\n",
      "0.2\n",
      "19\n",
      "Series([], Name: 19, dtype: object)\n",
      "1\n",
      "20\n",
      "Series([], Name: 20, dtype: object)\n",
      "2\n",
      "21\n",
      "Series([], Name: 21, dtype: object)\n",
      "4\n"
     ]
    }
   ],
   "source": [
    "for i in range(0,len(av.iloc[0])):\n",
    "    print i\n",
    "    print df_[df_.columns[i]]\n",
    "    print av.iloc[1][i]"
   ]
  },
  {
   "cell_type": "code",
   "execution_count": 143,
   "metadata": {
    "collapsed": true
   },
   "outputs": [],
   "source": [
    "import os"
   ]
  },
  {
   "cell_type": "code",
   "execution_count": 151,
   "metadata": {
    "collapsed": false
   },
   "outputs": [
    {
     "data": {
      "text/plain": [
       "<module 'ntpath' from 'D:\\DATO\\Anaconda2\\envs\\gl-env\\lib\\ntpath.pyc'>"
      ]
     },
     "execution_count": 151,
     "metadata": {},
     "output_type": "execute_result"
    }
   ],
   "source": [
    "os.path"
   ]
  }
 ],
 "metadata": {
  "kernelspec": {
   "display_name": "Python 2",
   "language": "python",
   "name": "python2"
  },
  "language_info": {
   "codemirror_mode": {
    "name": "ipython",
    "version": 2
   },
   "file_extension": ".py",
   "mimetype": "text/x-python",
   "name": "python",
   "nbconvert_exporter": "python",
   "pygments_lexer": "ipython2",
   "version": "2.7.11"
  }
 },
 "nbformat": 4,
 "nbformat_minor": 0
}
