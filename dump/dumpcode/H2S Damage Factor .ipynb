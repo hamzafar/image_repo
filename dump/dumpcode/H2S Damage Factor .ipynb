{
 "cells": [
  {
   "cell_type": "code",
   "execution_count": 5,
   "metadata": {
    "collapsed": false
   },
   "outputs": [],
   "source": [
    "interact(h2s_damage_factor,\n",
    "         d_fb_HICH2S =  '25',\n",
    "         f_om = {'Key Process Variables': 2, 'Hydrogen Probes' : 2,\n",
    "                'Key Process Variables and Hydrogen Probes' : 4},\n",
    "         age = '10',\n",
    "        __manual = True);"
   ]
  },
  {
   "cell_type": "code",
   "execution_count": 1,
   "metadata": {
    "collapsed": true
   },
   "outputs": [],
   "source": [
    "import pandas as pd\n",
    "import numpy as np\n",
    "from scipy.stats import norm"
   ]
  },
  {
   "cell_type": "code",
   "execution_count": 2,
   "metadata": {
    "collapsed": true
   },
   "outputs": [],
   "source": [
    "from __future__ import print_function\n",
    "from ipywidgets import interact, interactive, fixed\n",
    "import ipywidgets as widgets"
   ]
  },
  {
   "cell_type": "code",
   "execution_count": 3,
   "metadata": {
    "collapsed": false
   },
   "outputs": [],
   "source": [
    "def h2s_damage_factor(d_fb_HICH2S, f_om, age):\n",
    "    d_f_HICH2S = calculate_d_f_HICH2S(float(d_fb_HICH2S), float(f_om), float(age))\n",
    "    print('d_f_HICH2S: %s' %d_f_HICH2S)"
   ]
  },
  {
   "cell_type": "markdown",
   "metadata": {},
   "source": []
  },
  {
   "cell_type": "code",
   "execution_count": 4,
   "metadata": {
    "collapsed": true
   },
   "outputs": [],
   "source": [
    "def calculate_d_f_HICH2S(d_fb_HICH2S, f_om, age):\n",
    "    d_f_HICH2S = (d_fb_HICH2S * (max(age, 1.0)**1.1))/float(f_om)\n",
    "    return(d_f_HICH2S)"
   ]
  }
 ],
 "metadata": {
  "kernelspec": {
   "display_name": "Python 2",
   "language": "python",
   "name": "python2"
  },
  "language_info": {
   "codemirror_mode": {
    "name": "ipython",
    "version": 2
   },
   "file_extension": ".py",
   "mimetype": "text/x-python",
   "name": "python",
   "nbconvert_exporter": "python",
   "pygments_lexer": "ipython2",
   "version": "2.7.11"
  }
 },
 "nbformat": 4,
 "nbformat_minor": 0
}
